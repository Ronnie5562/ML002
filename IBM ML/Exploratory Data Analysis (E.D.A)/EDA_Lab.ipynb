{
 "cells": [
  {
   "cell_type": "markdown",
   "metadata": {},
   "source": [
    "<p style=\"text-align:center\">\n",
    "    <a href=\"https://skills.network/?utm_medium=Exinfluencer&utm_source=Exinfluencer&utm_content=000026UJ&utm_term=10006555&utm_id=NA-SkillsNetwork-Channel-SkillsNetworkCoursesIBMML0232ENSkillsNetwork837-2023-01-01\">\n",
    "    <img src=\"https://cf-courses-data.s3.us.cloud-object-storage.appdomain.cloud/assets/logos/SN_web_lightmode.png\" width=\"200\" alt=\"Skills Network Logo\"  />\n",
    "    </a>\n",
    "</p>\n"
   ]
  },
  {
   "cell_type": "markdown",
   "metadata": {},
   "source": [
    "# **Exploratory Data Analysis**\n"
   ]
  },
  {
   "cell_type": "markdown",
   "metadata": {},
   "source": [
    "Estimated time needed: **30** minutes\n",
    "\n",
    "Exploratory Data Analysis (EDA) is the crucial process of using summary statistics and graphical representations to perform preliminary investigations on data to uncover patterns, detect anomalies, test hypotheses, and verify assumptions.\n",
    "\n",
    "In this notebook, we will learn some interesting and useful data exploration techniques that can be applied to explore any geographical data.\n"
   ]
  },
  {
   "cell_type": "markdown",
   "metadata": {},
   "source": [
    "## Objectives\n"
   ]
  },
  {
   "cell_type": "markdown",
   "metadata": {},
   "source": [
    "*After completing this lab you will be able to:*\n",
    "\n",
    "*   Do Data Wrangling\n",
    "*   Do Data Filtering \n",
    "*   Plot with <code>plotly.express</code>\n",
    "*   Produce choropleth map\n"
   ]
  },
  {
   "cell_type": "markdown",
   "metadata": {},
   "source": [
    "***\n"
   ]
  },
  {
   "cell_type": "markdown",
   "metadata": {},
   "source": [
    "## **Setup**\n"
   ]
  },
  {
   "cell_type": "markdown",
   "metadata": {},
   "source": [
    "For this lab, we will be using the following libraries:\n",
    " - [`pandas`](https://pandas.pydata.org/?utm_medium=Exinfluencer&utm_source=Exinfluencer&utm_content=000026UJ&utm_term=10006555&utm_id=NA-SkillsNetwork-Channel-SkillsNetworkCoursesIBMML0232ENSkillsNetwork837-2023-01-01) for managing the data.\n",
    " - [`plotly.express`](https://plotly.com/python/plotly-express/?utm_medium=Exinfluencer&utm_source=Exinfluencer&utm_content=000026UJ&utm_term=10006555&utm_id=NA-SkillsNetwork-Channel-SkillsNetworkCoursesIBMML0232ENSkillsNetwork837-2023-01-01) for visualizing the data.\n",
    " - [`json`](https://docs.python.org/3/library/json.html/?utm_medium=Exinfluencer&utm_source=Exinfluencer&utm_content=000026UJ&utm_term=10006555&utm_id=NA-SkillsNetwork-Channel-SkillsNetworkCoursesIBMML0232ENSkillsNetwork837-2023-01-01) for reading json file formats.\n",
    " \n"
   ]
  },
  {
   "cell_type": "markdown",
   "metadata": {},
   "source": [
    "## **Installing Required Libraries**\n"
   ]
  },
  {
   "cell_type": "markdown",
   "metadata": {},
   "source": [
    "The following required modules are pre-installed in the Skills Network Labs environment. However, if you run this notebook commands in a different Jupyter environment (e.g. Watson Studio or Ananconda) you will need to install these libraries by removing the `#` sign before `!mamba` in the code cell below.\n"
   ]
  },
  {
   "cell_type": "code",
   "execution_count": 2,
   "metadata": {},
   "outputs": [],
   "source": [
    "# All Libraries required for this lab are listed below. The libraries pre-installed on Skills Network Labs are commented.\n",
    "# !mamba install -qy pandas==1.3.4 numpy==1.21.4 seaborn==0.9.0 matplotlib==3.5.0 scikit-learn==0.20.1\n",
    "# Note: If your environment doesn't support \"!mamba install\", use \"!pip install\""
   ]
  },
  {
   "cell_type": "code",
   "execution_count": 60,
   "metadata": {},
   "outputs": [],
   "source": [
    "import pandas as pd\n",
    "import numpy as np\n",
    "import plotly.express as px\n",
    "import datetime \n",
    "import requests\n",
    "import json"
   ]
  },
  {
   "cell_type": "markdown",
   "metadata": {},
   "source": [
    "## **Reading and understanding our data**\n"
   ]
  },
  {
   "cell_type": "markdown",
   "metadata": {},
   "source": [
    "The dataset in this lab is <a href=\"https://www150.statcan.gc.ca/t1/tbl1/en/tv.action?utm_medium=Exinfluencer&utm_source=Exinfluencer&utm_content=000026UJ&utm_term=10006555&utm_id=NA-SkillsNetwork-Channel-SkillsNetworkCoursesIBMML0232ENSkillsNetwork837-2023-01-01&pid=1810000101\">Monthly average retail prices for gasoline and fuel oil, by geography</a>  . It is available through Statistics Canada and includes monthly average gasoline price (Cents per Litre), of major Canadian Cities, starting from 1979 until recent. \n"
   ]
  },
  {
   "cell_type": "markdown",
   "metadata": {},
   "source": [
    "Another dataset, <a href=\"https://thomson.carto.com/tables/canada_provinces/public/map?utm_medium=Exinfluencer&utm_source=Exinfluencer&utm_content=000026UJ&utm_term=10006555&utm_id=NA-SkillsNetwork-Channel-SkillsNetworkCoursesIBMML0232ENSkillsNetwork837-2023-01-01\">canada_provinces.geojson</a>, contains the mapping information of all Canadian Provinces. It will be used in our analysis to produce a choropleth map. \n"
   ]
  },
  {
   "cell_type": "markdown",
   "metadata": {},
   "source": [
    "Let's read the data into *pandas* dataframe and look at the first 5 rows using the `head()` method. \n"
   ]
  },
  {
   "cell_type": "code",
   "execution_count": 4,
   "metadata": {},
   "outputs": [
    {
     "data": {
      "text/html": [
       "<div>\n",
       "<style scoped>\n",
       "    .dataframe tbody tr th:only-of-type {\n",
       "        vertical-align: middle;\n",
       "    }\n",
       "\n",
       "    .dataframe tbody tr th {\n",
       "        vertical-align: top;\n",
       "    }\n",
       "\n",
       "    .dataframe thead th {\n",
       "        text-align: right;\n",
       "    }\n",
       "</style>\n",
       "<table border=\"1\" class=\"dataframe\">\n",
       "  <thead>\n",
       "    <tr style=\"text-align: right;\">\n",
       "      <th></th>\n",
       "      <th>REF_DATE</th>\n",
       "      <th>GEO</th>\n",
       "      <th>DGUID</th>\n",
       "      <th>Type of fuel</th>\n",
       "      <th>UOM</th>\n",
       "      <th>UOM_ID</th>\n",
       "      <th>SCALAR_FACTOR</th>\n",
       "      <th>SCALAR_ID</th>\n",
       "      <th>VECTOR</th>\n",
       "      <th>COORDINATE</th>\n",
       "      <th>VALUE</th>\n",
       "      <th>STATUS</th>\n",
       "      <th>SYMBOL</th>\n",
       "      <th>TERMINATED</th>\n",
       "      <th>DECIMALS</th>\n",
       "    </tr>\n",
       "  </thead>\n",
       "  <tbody>\n",
       "    <tr>\n",
       "      <th>0</th>\n",
       "      <td>Jan-79</td>\n",
       "      <td>St. John's, Newfoundland and Labrador</td>\n",
       "      <td>2011S0503001</td>\n",
       "      <td>Regular unleaded gasoline at full service fill...</td>\n",
       "      <td>Cents per litre</td>\n",
       "      <td>57</td>\n",
       "      <td>units</td>\n",
       "      <td>0</td>\n",
       "      <td>v735046</td>\n",
       "      <td>2.1</td>\n",
       "      <td>26.0</td>\n",
       "      <td>NaN</td>\n",
       "      <td>NaN</td>\n",
       "      <td>t</td>\n",
       "      <td>1</td>\n",
       "    </tr>\n",
       "    <tr>\n",
       "      <th>1</th>\n",
       "      <td>Jan-79</td>\n",
       "      <td>Charlottetown and Summerside, Prince Edward Is...</td>\n",
       "      <td>NaN</td>\n",
       "      <td>Regular unleaded gasoline at full service fill...</td>\n",
       "      <td>Cents per litre</td>\n",
       "      <td>57</td>\n",
       "      <td>units</td>\n",
       "      <td>0</td>\n",
       "      <td>v735056</td>\n",
       "      <td>3.1</td>\n",
       "      <td>24.6</td>\n",
       "      <td>NaN</td>\n",
       "      <td>NaN</td>\n",
       "      <td>t</td>\n",
       "      <td>1</td>\n",
       "    </tr>\n",
       "    <tr>\n",
       "      <th>2</th>\n",
       "      <td>Jan-79</td>\n",
       "      <td>Halifax, Nova Scotia</td>\n",
       "      <td>2011S0503205</td>\n",
       "      <td>Regular unleaded gasoline at full service fill...</td>\n",
       "      <td>Cents per litre</td>\n",
       "      <td>57</td>\n",
       "      <td>units</td>\n",
       "      <td>0</td>\n",
       "      <td>v735057</td>\n",
       "      <td>4.1</td>\n",
       "      <td>23.4</td>\n",
       "      <td>NaN</td>\n",
       "      <td>NaN</td>\n",
       "      <td>t</td>\n",
       "      <td>1</td>\n",
       "    </tr>\n",
       "    <tr>\n",
       "      <th>3</th>\n",
       "      <td>Jan-79</td>\n",
       "      <td>Saint John, New Brunswick</td>\n",
       "      <td>2011S0503310</td>\n",
       "      <td>Regular unleaded gasoline at full service fill...</td>\n",
       "      <td>Cents per litre</td>\n",
       "      <td>57</td>\n",
       "      <td>units</td>\n",
       "      <td>0</td>\n",
       "      <td>v735058</td>\n",
       "      <td>5.1</td>\n",
       "      <td>23.2</td>\n",
       "      <td>NaN</td>\n",
       "      <td>NaN</td>\n",
       "      <td>t</td>\n",
       "      <td>1</td>\n",
       "    </tr>\n",
       "    <tr>\n",
       "      <th>4</th>\n",
       "      <td>Jan-79</td>\n",
       "      <td>Québec, Quebec</td>\n",
       "      <td>2011S0503421</td>\n",
       "      <td>Regular unleaded gasoline at full service fill...</td>\n",
       "      <td>Cents per litre</td>\n",
       "      <td>57</td>\n",
       "      <td>units</td>\n",
       "      <td>0</td>\n",
       "      <td>v735059</td>\n",
       "      <td>6.1</td>\n",
       "      <td>22.6</td>\n",
       "      <td>NaN</td>\n",
       "      <td>NaN</td>\n",
       "      <td>t</td>\n",
       "      <td>1</td>\n",
       "    </tr>\n",
       "  </tbody>\n",
       "</table>\n",
       "</div>"
      ],
      "text/plain": [
       "  REF_DATE                                                GEO         DGUID  \\\n",
       "0   Jan-79              St. John's, Newfoundland and Labrador  2011S0503001   \n",
       "1   Jan-79  Charlottetown and Summerside, Prince Edward Is...           NaN   \n",
       "2   Jan-79                               Halifax, Nova Scotia  2011S0503205   \n",
       "3   Jan-79                          Saint John, New Brunswick  2011S0503310   \n",
       "4   Jan-79                                     Québec, Quebec  2011S0503421   \n",
       "\n",
       "                                        Type of fuel              UOM  UOM_ID  \\\n",
       "0  Regular unleaded gasoline at full service fill...  Cents per litre      57   \n",
       "1  Regular unleaded gasoline at full service fill...  Cents per litre      57   \n",
       "2  Regular unleaded gasoline at full service fill...  Cents per litre      57   \n",
       "3  Regular unleaded gasoline at full service fill...  Cents per litre      57   \n",
       "4  Regular unleaded gasoline at full service fill...  Cents per litre      57   \n",
       "\n",
       "  SCALAR_FACTOR  SCALAR_ID   VECTOR  COORDINATE  VALUE  STATUS  SYMBOL  \\\n",
       "0        units           0  v735046         2.1   26.0     NaN     NaN   \n",
       "1        units           0  v735056         3.1   24.6     NaN     NaN   \n",
       "2        units           0  v735057         4.1   23.4     NaN     NaN   \n",
       "3        units           0  v735058         5.1   23.2     NaN     NaN   \n",
       "4        units           0  v735059         6.1   22.6     NaN     NaN   \n",
       "\n",
       "  TERMINATED  DECIMALS  \n",
       "0          t         1  \n",
       "1          t         1  \n",
       "2          t         1  \n",
       "3          t         1  \n",
       "4          t         1  "
      ]
     },
     "execution_count": 4,
     "metadata": {},
     "output_type": "execute_result"
    }
   ],
   "source": [
    "# gasoline = pd.read_csv(\"https://cf-courses-data.s3.us.cloud-object-storage.appdomain.cloud/IBM-ML0232EN-SkillsNetwork/asset/18100001.csv\")\n",
    "gasoline = pd.read_csv('./data/18100001.csv')\n",
    "gasoline.head()"
   ]
  },
  {
   "cell_type": "markdown",
   "metadata": {},
   "source": [
    "Let's find out how many entries there are in our dataset, using `shape` function.\n"
   ]
  },
  {
   "cell_type": "code",
   "execution_count": 5,
   "metadata": {},
   "outputs": [
    {
     "data": {
      "text/plain": [
       "(41942, 15)"
      ]
     },
     "execution_count": 5,
     "metadata": {},
     "output_type": "execute_result"
    }
   ],
   "source": [
    "gasoline.shape"
   ]
  },
  {
   "cell_type": "markdown",
   "metadata": {},
   "source": [
    "Using `info` function, we will take a look at our types of data.\n"
   ]
  },
  {
   "cell_type": "code",
   "execution_count": 6,
   "metadata": {},
   "outputs": [
    {
     "name": "stdout",
     "output_type": "stream",
     "text": [
      "<class 'pandas.core.frame.DataFrame'>\n",
      "RangeIndex: 41942 entries, 0 to 41941\n",
      "Data columns (total 15 columns):\n",
      " #   Column         Non-Null Count  Dtype  \n",
      "---  ------         --------------  -----  \n",
      " 0   REF_DATE       41942 non-null  object \n",
      " 1   GEO            41942 non-null  object \n",
      " 2   DGUID          39451 non-null  object \n",
      " 3   Type of fuel   41942 non-null  object \n",
      " 4   UOM            41942 non-null  object \n",
      " 5   UOM_ID         41942 non-null  int64  \n",
      " 6   SCALAR_FACTOR  41942 non-null  object \n",
      " 7   SCALAR_ID      41942 non-null  int64  \n",
      " 8   VECTOR         41942 non-null  object \n",
      " 9   COORDINATE     41942 non-null  float64\n",
      " 10  VALUE          41942 non-null  float64\n",
      " 11  STATUS         0 non-null      float64\n",
      " 12  SYMBOL         0 non-null      float64\n",
      " 13  TERMINATED     16564 non-null  object \n",
      " 14  DECIMALS       41942 non-null  int64  \n",
      "dtypes: float64(4), int64(3), object(8)\n",
      "memory usage: 4.8+ MB\n"
     ]
    }
   ],
   "source": [
    "gasoline.info()"
   ]
  },
  {
   "cell_type": "markdown",
   "metadata": {},
   "source": [
    "Using `columns` method, we will print all the column names.\n"
   ]
  },
  {
   "cell_type": "code",
   "execution_count": 7,
   "metadata": {},
   "outputs": [
    {
     "data": {
      "text/plain": [
       "Index(['REF_DATE', 'GEO', 'DGUID', 'Type of fuel', 'UOM', 'UOM_ID',\n",
       "       'SCALAR_FACTOR', 'SCALAR_ID', 'VECTOR', 'COORDINATE', 'VALUE', 'STATUS',\n",
       "       'SYMBOL', 'TERMINATED', 'DECIMALS'],\n",
       "      dtype='object')"
      ]
     },
     "execution_count": 7,
     "metadata": {},
     "output_type": "execute_result"
    }
   ],
   "source": [
    "gasoline.columns"
   ]
  },
  {
   "cell_type": "markdown",
   "metadata": {},
   "source": [
    "Below, we will check for any missing values.\n"
   ]
  },
  {
   "cell_type": "code",
   "execution_count": 9,
   "metadata": {},
   "outputs": [
    {
     "data": {
      "text/plain": [
       "REF_DATE             0\n",
       "GEO                  0\n",
       "DGUID             2491\n",
       "Type of fuel         0\n",
       "UOM                  0\n",
       "UOM_ID               0\n",
       "SCALAR_FACTOR        0\n",
       "SCALAR_ID            0\n",
       "VECTOR               0\n",
       "COORDINATE           0\n",
       "VALUE                0\n",
       "STATUS           41942\n",
       "SYMBOL           41942\n",
       "TERMINATED       25378\n",
       "DECIMALS             0\n",
       "dtype: int64"
      ]
     },
     "execution_count": 9,
     "metadata": {},
     "output_type": "execute_result"
    }
   ],
   "source": [
    "gasoline.isnull().sum()"
   ]
  },
  {
   "cell_type": "markdown",
   "metadata": {},
   "source": [
    "## **Data Wrangling** \n",
    "### Selecting and renaming the columns of interest\n"
   ]
  },
  {
   "cell_type": "markdown",
   "metadata": {},
   "source": [
    "Below, we are filtering our data, by selecting only the relevant columns. Also, we are using the `rename()` method to change the name of the columns.\n"
   ]
  },
  {
   "cell_type": "code",
   "execution_count": 10,
   "metadata": {},
   "outputs": [
    {
     "data": {
      "text/html": [
       "<div>\n",
       "<style scoped>\n",
       "    .dataframe tbody tr th:only-of-type {\n",
       "        vertical-align: middle;\n",
       "    }\n",
       "\n",
       "    .dataframe tbody tr th {\n",
       "        vertical-align: top;\n",
       "    }\n",
       "\n",
       "    .dataframe thead th {\n",
       "        text-align: right;\n",
       "    }\n",
       "</style>\n",
       "<table border=\"1\" class=\"dataframe\">\n",
       "  <thead>\n",
       "    <tr style=\"text-align: right;\">\n",
       "      <th></th>\n",
       "      <th>DATE</th>\n",
       "      <th>GEO</th>\n",
       "      <th>TYPE</th>\n",
       "      <th>VALUE</th>\n",
       "    </tr>\n",
       "  </thead>\n",
       "  <tbody>\n",
       "    <tr>\n",
       "      <th>0</th>\n",
       "      <td>Jan-79</td>\n",
       "      <td>St. John's, Newfoundland and Labrador</td>\n",
       "      <td>Regular unleaded gasoline at full service fill...</td>\n",
       "      <td>26.0</td>\n",
       "    </tr>\n",
       "    <tr>\n",
       "      <th>1</th>\n",
       "      <td>Jan-79</td>\n",
       "      <td>Charlottetown and Summerside, Prince Edward Is...</td>\n",
       "      <td>Regular unleaded gasoline at full service fill...</td>\n",
       "      <td>24.6</td>\n",
       "    </tr>\n",
       "    <tr>\n",
       "      <th>2</th>\n",
       "      <td>Jan-79</td>\n",
       "      <td>Halifax, Nova Scotia</td>\n",
       "      <td>Regular unleaded gasoline at full service fill...</td>\n",
       "      <td>23.4</td>\n",
       "    </tr>\n",
       "    <tr>\n",
       "      <th>3</th>\n",
       "      <td>Jan-79</td>\n",
       "      <td>Saint John, New Brunswick</td>\n",
       "      <td>Regular unleaded gasoline at full service fill...</td>\n",
       "      <td>23.2</td>\n",
       "    </tr>\n",
       "    <tr>\n",
       "      <th>4</th>\n",
       "      <td>Jan-79</td>\n",
       "      <td>Québec, Quebec</td>\n",
       "      <td>Regular unleaded gasoline at full service fill...</td>\n",
       "      <td>22.6</td>\n",
       "    </tr>\n",
       "  </tbody>\n",
       "</table>\n",
       "</div>"
      ],
      "text/plain": [
       "     DATE                                                GEO  \\\n",
       "0  Jan-79              St. John's, Newfoundland and Labrador   \n",
       "1  Jan-79  Charlottetown and Summerside, Prince Edward Is...   \n",
       "2  Jan-79                               Halifax, Nova Scotia   \n",
       "3  Jan-79                          Saint John, New Brunswick   \n",
       "4  Jan-79                                     Québec, Quebec   \n",
       "\n",
       "                                                TYPE  VALUE  \n",
       "0  Regular unleaded gasoline at full service fill...   26.0  \n",
       "1  Regular unleaded gasoline at full service fill...   24.6  \n",
       "2  Regular unleaded gasoline at full service fill...   23.4  \n",
       "3  Regular unleaded gasoline at full service fill...   23.2  \n",
       "4  Regular unleaded gasoline at full service fill...   22.6  "
      ]
     },
     "execution_count": 10,
     "metadata": {},
     "output_type": "execute_result"
    }
   ],
   "source": [
    "data = (gasoline[['REF_DATE','GEO','Type of fuel','VALUE']]).rename(columns={\"REF_DATE\" : \"DATE\", \"Type of fuel\" : \"TYPE\"})\n",
    "data.head()"
   ]
  },
  {
   "cell_type": "markdown",
   "metadata": {},
   "source": [
    "### Splitting the columns\n"
   ]
  },
  {
   "cell_type": "markdown",
   "metadata": {},
   "source": [
    "The `str.split()` function splits the string records, by a 'comma', with `n=1` slplit, and <code>Expend=True</code> , returns a dataframe. Below, we are splitting 'GEO' into 'City' and 'Province'.\n"
   ]
  },
  {
   "cell_type": "code",
   "execution_count": 16,
   "metadata": {},
   "outputs": [],
   "source": [
    "data[['City', 'Province']] = data['GEO'].str.split(',', n=1, expand=True)"
   ]
  },
  {
   "cell_type": "code",
   "execution_count": 23,
   "metadata": {},
   "outputs": [
    {
     "data": {
      "text/html": [
       "<div>\n",
       "<style scoped>\n",
       "    .dataframe tbody tr th:only-of-type {\n",
       "        vertical-align: middle;\n",
       "    }\n",
       "\n",
       "    .dataframe tbody tr th {\n",
       "        vertical-align: top;\n",
       "    }\n",
       "\n",
       "    .dataframe thead th {\n",
       "        text-align: right;\n",
       "    }\n",
       "</style>\n",
       "<table border=\"1\" class=\"dataframe\">\n",
       "  <thead>\n",
       "    <tr style=\"text-align: right;\">\n",
       "      <th></th>\n",
       "      <th>DATE</th>\n",
       "      <th>GEO</th>\n",
       "      <th>TYPE</th>\n",
       "      <th>VALUE</th>\n",
       "      <th>City</th>\n",
       "      <th>Province</th>\n",
       "    </tr>\n",
       "  </thead>\n",
       "  <tbody>\n",
       "    <tr>\n",
       "      <th>0</th>\n",
       "      <td>Jan-79</td>\n",
       "      <td>St. John's, Newfoundland and Labrador</td>\n",
       "      <td>Regular unleaded gasoline at full service fill...</td>\n",
       "      <td>26.0</td>\n",
       "      <td>St. John's</td>\n",
       "      <td>Newfoundland and Labrador</td>\n",
       "    </tr>\n",
       "    <tr>\n",
       "      <th>1</th>\n",
       "      <td>Jan-79</td>\n",
       "      <td>Charlottetown and Summerside, Prince Edward Is...</td>\n",
       "      <td>Regular unleaded gasoline at full service fill...</td>\n",
       "      <td>24.6</td>\n",
       "      <td>Charlottetown and Summerside</td>\n",
       "      <td>Prince Edward Island</td>\n",
       "    </tr>\n",
       "    <tr>\n",
       "      <th>2</th>\n",
       "      <td>Jan-79</td>\n",
       "      <td>Halifax, Nova Scotia</td>\n",
       "      <td>Regular unleaded gasoline at full service fill...</td>\n",
       "      <td>23.4</td>\n",
       "      <td>Halifax</td>\n",
       "      <td>Nova Scotia</td>\n",
       "    </tr>\n",
       "    <tr>\n",
       "      <th>3</th>\n",
       "      <td>Jan-79</td>\n",
       "      <td>Saint John, New Brunswick</td>\n",
       "      <td>Regular unleaded gasoline at full service fill...</td>\n",
       "      <td>23.2</td>\n",
       "      <td>Saint John</td>\n",
       "      <td>New Brunswick</td>\n",
       "    </tr>\n",
       "    <tr>\n",
       "      <th>4</th>\n",
       "      <td>Jan-79</td>\n",
       "      <td>Québec, Quebec</td>\n",
       "      <td>Regular unleaded gasoline at full service fill...</td>\n",
       "      <td>22.6</td>\n",
       "      <td>Québec</td>\n",
       "      <td>Quebec</td>\n",
       "    </tr>\n",
       "  </tbody>\n",
       "</table>\n",
       "</div>"
      ],
      "text/plain": [
       "     DATE                                                GEO  \\\n",
       "0  Jan-79              St. John's, Newfoundland and Labrador   \n",
       "1  Jan-79  Charlottetown and Summerside, Prince Edward Is...   \n",
       "2  Jan-79                               Halifax, Nova Scotia   \n",
       "3  Jan-79                          Saint John, New Brunswick   \n",
       "4  Jan-79                                     Québec, Quebec   \n",
       "\n",
       "                                                TYPE  VALUE  \\\n",
       "0  Regular unleaded gasoline at full service fill...   26.0   \n",
       "1  Regular unleaded gasoline at full service fill...   24.6   \n",
       "2  Regular unleaded gasoline at full service fill...   23.4   \n",
       "3  Regular unleaded gasoline at full service fill...   23.2   \n",
       "4  Regular unleaded gasoline at full service fill...   22.6   \n",
       "\n",
       "                           City                    Province  \n",
       "0                    St. John's   Newfoundland and Labrador  \n",
       "1  Charlottetown and Summerside        Prince Edward Island  \n",
       "2                       Halifax                 Nova Scotia  \n",
       "3                    Saint John               New Brunswick  \n",
       "4                        Québec                      Quebec  "
      ]
     },
     "execution_count": 23,
     "metadata": {},
     "output_type": "execute_result"
    }
   ],
   "source": [
    "data.head()"
   ]
  },
  {
   "cell_type": "markdown",
   "metadata": {},
   "source": [
    "### Changing to *datetime* format\n"
   ]
  },
  {
   "cell_type": "markdown",
   "metadata": {},
   "source": [
    "If we scroll up to our `gasoline.info()` section, we can find that  'REF_DATE' is an object type. To be able to filter by day, month, or year, we need to change the format from object type to *datetime*. Pandas function `to_datetime()` transforms to date time format. Also, we need to specify the format of *datetime* that we need. In our case, `format='%b-%y'` means that it will split into the name of a month and year. `str.slice(stop=3)` splits and outputs the first 3 letters of a month. For more information on how to transform to *datetime*, please visit [this](https://pandas.pydata.org/pandas-docs/stable/reference/api/pandas.to_datetime.html?utm_medium=Exinfluencer&utm_source=Exinfluencer&utm_content=000026UJ&utm_term=10006555&utm_id=NA-SkillsNetwork-Channel-SkillsNetworkCoursesIBMML0232ENSkillsNetwork837-2023-01-01) pandas documentation. Also, [this](https://strftime.org/?utm_medium=Exinfluencer&utm_source=Exinfluencer&utm_content=000026UJ&utm_term=10006555&utm_id=NA-SkillsNetwork-Channel-SkillsNetworkCoursesIBMML0232ENSkillsNetwork837-2023-01-01) web page contains more information on *datetime* formats.\n"
   ]
  },
  {
   "cell_type": "code",
   "execution_count": 24,
   "metadata": {},
   "outputs": [],
   "source": [
    "data['DATE'] = pd.to_datetime(data['DATE'], format='%b-%y')\n",
    "data['Month'] = data['DATE'].dt.month_name().str.slice(stop=3)\n",
    "data['Year'] = data['DATE'].dt.year"
   ]
  },
  {
   "cell_type": "code",
   "execution_count": 25,
   "metadata": {},
   "outputs": [
    {
     "data": {
      "text/html": [
       "<div>\n",
       "<style scoped>\n",
       "    .dataframe tbody tr th:only-of-type {\n",
       "        vertical-align: middle;\n",
       "    }\n",
       "\n",
       "    .dataframe tbody tr th {\n",
       "        vertical-align: top;\n",
       "    }\n",
       "\n",
       "    .dataframe thead th {\n",
       "        text-align: right;\n",
       "    }\n",
       "</style>\n",
       "<table border=\"1\" class=\"dataframe\">\n",
       "  <thead>\n",
       "    <tr style=\"text-align: right;\">\n",
       "      <th></th>\n",
       "      <th>DATE</th>\n",
       "      <th>GEO</th>\n",
       "      <th>TYPE</th>\n",
       "      <th>VALUE</th>\n",
       "      <th>City</th>\n",
       "      <th>Province</th>\n",
       "      <th>Month</th>\n",
       "      <th>Year</th>\n",
       "    </tr>\n",
       "  </thead>\n",
       "  <tbody>\n",
       "    <tr>\n",
       "      <th>0</th>\n",
       "      <td>1979-01-01</td>\n",
       "      <td>St. John's, Newfoundland and Labrador</td>\n",
       "      <td>Regular unleaded gasoline at full service fill...</td>\n",
       "      <td>26.0</td>\n",
       "      <td>St. John's</td>\n",
       "      <td>Newfoundland and Labrador</td>\n",
       "      <td>Jan</td>\n",
       "      <td>1979</td>\n",
       "    </tr>\n",
       "    <tr>\n",
       "      <th>1</th>\n",
       "      <td>1979-01-01</td>\n",
       "      <td>Charlottetown and Summerside, Prince Edward Is...</td>\n",
       "      <td>Regular unleaded gasoline at full service fill...</td>\n",
       "      <td>24.6</td>\n",
       "      <td>Charlottetown and Summerside</td>\n",
       "      <td>Prince Edward Island</td>\n",
       "      <td>Jan</td>\n",
       "      <td>1979</td>\n",
       "    </tr>\n",
       "    <tr>\n",
       "      <th>2</th>\n",
       "      <td>1979-01-01</td>\n",
       "      <td>Halifax, Nova Scotia</td>\n",
       "      <td>Regular unleaded gasoline at full service fill...</td>\n",
       "      <td>23.4</td>\n",
       "      <td>Halifax</td>\n",
       "      <td>Nova Scotia</td>\n",
       "      <td>Jan</td>\n",
       "      <td>1979</td>\n",
       "    </tr>\n",
       "    <tr>\n",
       "      <th>3</th>\n",
       "      <td>1979-01-01</td>\n",
       "      <td>Saint John, New Brunswick</td>\n",
       "      <td>Regular unleaded gasoline at full service fill...</td>\n",
       "      <td>23.2</td>\n",
       "      <td>Saint John</td>\n",
       "      <td>New Brunswick</td>\n",
       "      <td>Jan</td>\n",
       "      <td>1979</td>\n",
       "    </tr>\n",
       "    <tr>\n",
       "      <th>4</th>\n",
       "      <td>1979-01-01</td>\n",
       "      <td>Québec, Quebec</td>\n",
       "      <td>Regular unleaded gasoline at full service fill...</td>\n",
       "      <td>22.6</td>\n",
       "      <td>Québec</td>\n",
       "      <td>Quebec</td>\n",
       "      <td>Jan</td>\n",
       "      <td>1979</td>\n",
       "    </tr>\n",
       "  </tbody>\n",
       "</table>\n",
       "</div>"
      ],
      "text/plain": [
       "        DATE                                                GEO  \\\n",
       "0 1979-01-01              St. John's, Newfoundland and Labrador   \n",
       "1 1979-01-01  Charlottetown and Summerside, Prince Edward Is...   \n",
       "2 1979-01-01                               Halifax, Nova Scotia   \n",
       "3 1979-01-01                          Saint John, New Brunswick   \n",
       "4 1979-01-01                                     Québec, Quebec   \n",
       "\n",
       "                                                TYPE  VALUE  \\\n",
       "0  Regular unleaded gasoline at full service fill...   26.0   \n",
       "1  Regular unleaded gasoline at full service fill...   24.6   \n",
       "2  Regular unleaded gasoline at full service fill...   23.4   \n",
       "3  Regular unleaded gasoline at full service fill...   23.2   \n",
       "4  Regular unleaded gasoline at full service fill...   22.6   \n",
       "\n",
       "                           City                    Province Month  Year  \n",
       "0                    St. John's   Newfoundland and Labrador   Jan  1979  \n",
       "1  Charlottetown and Summerside        Prince Edward Island   Jan  1979  \n",
       "2                       Halifax                 Nova Scotia   Jan  1979  \n",
       "3                    Saint John               New Brunswick   Jan  1979  \n",
       "4                        Québec                      Quebec   Jan  1979  "
      ]
     },
     "execution_count": 25,
     "metadata": {},
     "output_type": "execute_result"
    }
   ],
   "source": [
    "data.head()"
   ]
  },
  {
   "cell_type": "markdown",
   "metadata": {},
   "source": [
    "The `describe()` function provides statistical information about the numeric variables. Since we only have the 'VALUE' variable that we want statistical information on, we will filter it by `data.VALUE.describe()` function.\n"
   ]
  },
  {
   "cell_type": "code",
   "execution_count": 26,
   "metadata": {},
   "outputs": [
    {
     "data": {
      "text/plain": [
       "count    41942.000000\n",
       "mean        84.784858\n",
       "std         31.492697\n",
       "min         18.300000\n",
       "25%         58.200000\n",
       "50%         79.200000\n",
       "75%        110.900000\n",
       "max        191.600000\n",
       "Name: VALUE, dtype: float64"
      ]
     },
     "execution_count": 26,
     "metadata": {},
     "output_type": "execute_result"
    }
   ],
   "source": [
    "data['VALUE'].describe()"
   ]
  },
  {
   "cell_type": "markdown",
   "metadata": {},
   "source": [
    "Now, it is useful to know what is inside our categorical variables. We will use `unique().tolist()` functions to print out all of our 'GEO' colunm.\n"
   ]
  },
  {
   "cell_type": "code",
   "execution_count": 29,
   "metadata": {},
   "outputs": [
    {
     "data": {
      "text/plain": [
       "[\"St. John's, Newfoundland and Labrador\",\n",
       " 'Charlottetown and Summerside, Prince Edward Island',\n",
       " 'Halifax, Nova Scotia',\n",
       " 'Saint John, New Brunswick',\n",
       " 'Québec, Quebec',\n",
       " 'Montréal, Quebec',\n",
       " 'Ottawa-Gatineau, Ontario part, Ontario/Quebec',\n",
       " 'Toronto, Ontario',\n",
       " 'Thunder Bay, Ontario',\n",
       " 'Winnipeg, Manitoba',\n",
       " 'Regina, Saskatchewan',\n",
       " 'Saskatoon, Saskatchewan',\n",
       " 'Edmonton, Alberta',\n",
       " 'Calgary, Alberta',\n",
       " 'Vancouver, British Columbia',\n",
       " 'Victoria, British Columbia',\n",
       " 'Whitehorse, Yukon',\n",
       " 'Yellowknife, Northwest Territories']"
      ]
     },
     "execution_count": 29,
     "metadata": {},
     "output_type": "execute_result"
    }
   ],
   "source": [
    "data['GEO'].unique().tolist()"
   ]
  },
  {
   "cell_type": "markdown",
   "metadata": {},
   "source": [
    "## Exercise 1\n"
   ]
  },
  {
   "cell_type": "markdown",
   "metadata": {},
   "source": [
    "In this exercise, print out all categories in 'TYPE' column.\n"
   ]
  },
  {
   "cell_type": "code",
   "execution_count": 38,
   "metadata": {},
   "outputs": [
    {
     "data": {
      "text/plain": [
       "['Regular unleaded gasoline at full service filling stations',\n",
       " 'Regular unleaded gasoline at self service filling stations',\n",
       " 'Premium unleaded gasoline at full service filling stations',\n",
       " 'Premium unleaded gasoline at self service filling stations',\n",
       " 'Diesel fuel at full service filling stations',\n",
       " 'Household heating fuel',\n",
       " 'Diesel fuel at self service filling stations']"
      ]
     },
     "execution_count": 38,
     "metadata": {},
     "output_type": "execute_result"
    }
   ],
   "source": [
    "# Enter your code and run the cell\n",
    "data[\"TYPE\"].unique().tolist()"
   ]
  },
  {
   "cell_type": "markdown",
   "metadata": {},
   "source": [
    "<details>\n",
    "<summary><strong>Solution</strong> (Click Here)</summary>\n",
    "    &emsp; &emsp; <code>\n",
    "data.TYPE.unique().tolist()\n",
    "</code>\n",
    "</details>\n"
   ]
  },
  {
   "cell_type": "markdown",
   "metadata": {},
   "source": [
    "## **Data Filtering** \n"
   ]
  },
  {
   "cell_type": "markdown",
   "metadata": {},
   "source": [
    "This section will introduce you to some of the most common filtering techniques when working with pandas dataframes.\n"
   ]
  },
  {
   "cell_type": "markdown",
   "metadata": {},
   "source": [
    "### Filtering with logical operators\n"
   ]
  },
  {
   "cell_type": "markdown",
   "metadata": {},
   "source": [
    "We can use the logical operators on column values to filter rows. First, we  specify the name of our data, then, square brackets to select the name of the column, double 'equal' sign, '==' to select the name of a row group, in single or double quotation marks. If we want to exclude some entries (e.g. some locations), we would use the 'equal' and 'exclamation point' signs together, '=!'. We can also use '</>', '<=/>=' signs to select numeric information.\n",
    "\n",
    "Let's select the Calgary, Alberta data to see all the information.\n"
   ]
  },
  {
   "cell_type": "code",
   "execution_count": 41,
   "metadata": {},
   "outputs": [
    {
     "data": {
      "text/html": [
       "<div>\n",
       "<style scoped>\n",
       "    .dataframe tbody tr th:only-of-type {\n",
       "        vertical-align: middle;\n",
       "    }\n",
       "\n",
       "    .dataframe tbody tr th {\n",
       "        vertical-align: top;\n",
       "    }\n",
       "\n",
       "    .dataframe thead th {\n",
       "        text-align: right;\n",
       "    }\n",
       "</style>\n",
       "<table border=\"1\" class=\"dataframe\">\n",
       "  <thead>\n",
       "    <tr style=\"text-align: right;\">\n",
       "      <th></th>\n",
       "      <th>DATE</th>\n",
       "      <th>GEO</th>\n",
       "      <th>TYPE</th>\n",
       "      <th>VALUE</th>\n",
       "      <th>City</th>\n",
       "      <th>Province</th>\n",
       "      <th>Month</th>\n",
       "      <th>Year</th>\n",
       "    </tr>\n",
       "  </thead>\n",
       "  <tbody>\n",
       "    <tr>\n",
       "      <th>13</th>\n",
       "      <td>1979-01-01</td>\n",
       "      <td>Calgary, Alberta</td>\n",
       "      <td>Regular unleaded gasoline at full service fill...</td>\n",
       "      <td>18.7</td>\n",
       "      <td>Calgary</td>\n",
       "      <td>Alberta</td>\n",
       "      <td>Jan</td>\n",
       "      <td>1979</td>\n",
       "    </tr>\n",
       "    <tr>\n",
       "      <th>28</th>\n",
       "      <td>1979-02-01</td>\n",
       "      <td>Calgary, Alberta</td>\n",
       "      <td>Regular unleaded gasoline at full service fill...</td>\n",
       "      <td>18.9</td>\n",
       "      <td>Calgary</td>\n",
       "      <td>Alberta</td>\n",
       "      <td>Feb</td>\n",
       "      <td>1979</td>\n",
       "    </tr>\n",
       "    <tr>\n",
       "      <th>43</th>\n",
       "      <td>1979-03-01</td>\n",
       "      <td>Calgary, Alberta</td>\n",
       "      <td>Regular unleaded gasoline at full service fill...</td>\n",
       "      <td>18.9</td>\n",
       "      <td>Calgary</td>\n",
       "      <td>Alberta</td>\n",
       "      <td>Mar</td>\n",
       "      <td>1979</td>\n",
       "    </tr>\n",
       "    <tr>\n",
       "      <th>58</th>\n",
       "      <td>1979-04-01</td>\n",
       "      <td>Calgary, Alberta</td>\n",
       "      <td>Regular unleaded gasoline at full service fill...</td>\n",
       "      <td>19.1</td>\n",
       "      <td>Calgary</td>\n",
       "      <td>Alberta</td>\n",
       "      <td>Apr</td>\n",
       "      <td>1979</td>\n",
       "    </tr>\n",
       "    <tr>\n",
       "      <th>73</th>\n",
       "      <td>1979-05-01</td>\n",
       "      <td>Calgary, Alberta</td>\n",
       "      <td>Regular unleaded gasoline at full service fill...</td>\n",
       "      <td>19.2</td>\n",
       "      <td>Calgary</td>\n",
       "      <td>Alberta</td>\n",
       "      <td>May</td>\n",
       "      <td>1979</td>\n",
       "    </tr>\n",
       "    <tr>\n",
       "      <th>...</th>\n",
       "      <td>...</td>\n",
       "      <td>...</td>\n",
       "      <td>...</td>\n",
       "      <td>...</td>\n",
       "      <td>...</td>\n",
       "      <td>...</td>\n",
       "      <td>...</td>\n",
       "      <td>...</td>\n",
       "    </tr>\n",
       "    <tr>\n",
       "      <th>41855</th>\n",
       "      <td>2021-09-01</td>\n",
       "      <td>Calgary, Alberta</td>\n",
       "      <td>Premium unleaded gasoline at self service fill...</td>\n",
       "      <td>156.6</td>\n",
       "      <td>Calgary</td>\n",
       "      <td>Alberta</td>\n",
       "      <td>Sep</td>\n",
       "      <td>2021</td>\n",
       "    </tr>\n",
       "    <tr>\n",
       "      <th>41856</th>\n",
       "      <td>2021-09-01</td>\n",
       "      <td>Calgary, Alberta</td>\n",
       "      <td>Diesel fuel at self service filling stations</td>\n",
       "      <td>125.1</td>\n",
       "      <td>Calgary</td>\n",
       "      <td>Alberta</td>\n",
       "      <td>Sep</td>\n",
       "      <td>2021</td>\n",
       "    </tr>\n",
       "    <tr>\n",
       "      <th>41923</th>\n",
       "      <td>2021-10-01</td>\n",
       "      <td>Calgary, Alberta</td>\n",
       "      <td>Regular unleaded gasoline at self service fill...</td>\n",
       "      <td>140.8</td>\n",
       "      <td>Calgary</td>\n",
       "      <td>Alberta</td>\n",
       "      <td>Oct</td>\n",
       "      <td>2021</td>\n",
       "    </tr>\n",
       "    <tr>\n",
       "      <th>41924</th>\n",
       "      <td>2021-10-01</td>\n",
       "      <td>Calgary, Alberta</td>\n",
       "      <td>Premium unleaded gasoline at self service fill...</td>\n",
       "      <td>164.4</td>\n",
       "      <td>Calgary</td>\n",
       "      <td>Alberta</td>\n",
       "      <td>Oct</td>\n",
       "      <td>2021</td>\n",
       "    </tr>\n",
       "    <tr>\n",
       "      <th>41925</th>\n",
       "      <td>2021-10-01</td>\n",
       "      <td>Calgary, Alberta</td>\n",
       "      <td>Diesel fuel at self service filling stations</td>\n",
       "      <td>138.3</td>\n",
       "      <td>Calgary</td>\n",
       "      <td>Alberta</td>\n",
       "      <td>Oct</td>\n",
       "      <td>2021</td>\n",
       "    </tr>\n",
       "  </tbody>\n",
       "</table>\n",
       "<p>2109 rows × 8 columns</p>\n",
       "</div>"
      ],
      "text/plain": [
       "            DATE               GEO  \\\n",
       "13    1979-01-01  Calgary, Alberta   \n",
       "28    1979-02-01  Calgary, Alberta   \n",
       "43    1979-03-01  Calgary, Alberta   \n",
       "58    1979-04-01  Calgary, Alberta   \n",
       "73    1979-05-01  Calgary, Alberta   \n",
       "...          ...               ...   \n",
       "41855 2021-09-01  Calgary, Alberta   \n",
       "41856 2021-09-01  Calgary, Alberta   \n",
       "41923 2021-10-01  Calgary, Alberta   \n",
       "41924 2021-10-01  Calgary, Alberta   \n",
       "41925 2021-10-01  Calgary, Alberta   \n",
       "\n",
       "                                                    TYPE  VALUE     City  \\\n",
       "13     Regular unleaded gasoline at full service fill...   18.7  Calgary   \n",
       "28     Regular unleaded gasoline at full service fill...   18.9  Calgary   \n",
       "43     Regular unleaded gasoline at full service fill...   18.9  Calgary   \n",
       "58     Regular unleaded gasoline at full service fill...   19.1  Calgary   \n",
       "73     Regular unleaded gasoline at full service fill...   19.2  Calgary   \n",
       "...                                                  ...    ...      ...   \n",
       "41855  Premium unleaded gasoline at self service fill...  156.6  Calgary   \n",
       "41856       Diesel fuel at self service filling stations  125.1  Calgary   \n",
       "41923  Regular unleaded gasoline at self service fill...  140.8  Calgary   \n",
       "41924  Premium unleaded gasoline at self service fill...  164.4  Calgary   \n",
       "41925       Diesel fuel at self service filling stations  138.3  Calgary   \n",
       "\n",
       "       Province Month  Year  \n",
       "13      Alberta   Jan  1979  \n",
       "28      Alberta   Feb  1979  \n",
       "43      Alberta   Mar  1979  \n",
       "58      Alberta   Apr  1979  \n",
       "73      Alberta   May  1979  \n",
       "...         ...   ...   ...  \n",
       "41855   Alberta   Sep  2021  \n",
       "41856   Alberta   Sep  2021  \n",
       "41923   Alberta   Oct  2021  \n",
       "41924   Alberta   Oct  2021  \n",
       "41925   Alberta   Oct  2021  \n",
       "\n",
       "[2109 rows x 8 columns]"
      ]
     },
     "execution_count": 41,
     "metadata": {},
     "output_type": "execute_result"
    }
   ],
   "source": [
    "filt = data['GEO'] == 'Calgary, Alberta' \n",
    "Calgary = data[filt]\n",
    "Calgary"
   ]
  },
  {
   "cell_type": "markdown",
   "metadata": {},
   "source": [
    "Now, let's select 2000 year.\n"
   ]
  },
  {
   "cell_type": "code",
   "execution_count": 42,
   "metadata": {},
   "outputs": [
    {
     "data": {
      "text/html": [
       "<div>\n",
       "<style scoped>\n",
       "    .dataframe tbody tr th:only-of-type {\n",
       "        vertical-align: middle;\n",
       "    }\n",
       "\n",
       "    .dataframe tbody tr th {\n",
       "        vertical-align: top;\n",
       "    }\n",
       "\n",
       "    .dataframe thead th {\n",
       "        text-align: right;\n",
       "    }\n",
       "</style>\n",
       "<table border=\"1\" class=\"dataframe\">\n",
       "  <thead>\n",
       "    <tr style=\"text-align: right;\">\n",
       "      <th></th>\n",
       "      <th>DATE</th>\n",
       "      <th>GEO</th>\n",
       "      <th>TYPE</th>\n",
       "      <th>VALUE</th>\n",
       "      <th>City</th>\n",
       "      <th>Province</th>\n",
       "      <th>Month</th>\n",
       "      <th>Year</th>\n",
       "    </tr>\n",
       "  </thead>\n",
       "  <tbody>\n",
       "    <tr>\n",
       "      <th>13</th>\n",
       "      <td>1979-01-01</td>\n",
       "      <td>Calgary, Alberta</td>\n",
       "      <td>Regular unleaded gasoline at full service fill...</td>\n",
       "      <td>18.7</td>\n",
       "      <td>Calgary</td>\n",
       "      <td>Alberta</td>\n",
       "      <td>Jan</td>\n",
       "      <td>1979</td>\n",
       "    </tr>\n",
       "    <tr>\n",
       "      <th>28</th>\n",
       "      <td>1979-02-01</td>\n",
       "      <td>Calgary, Alberta</td>\n",
       "      <td>Regular unleaded gasoline at full service fill...</td>\n",
       "      <td>18.9</td>\n",
       "      <td>Calgary</td>\n",
       "      <td>Alberta</td>\n",
       "      <td>Feb</td>\n",
       "      <td>1979</td>\n",
       "    </tr>\n",
       "    <tr>\n",
       "      <th>43</th>\n",
       "      <td>1979-03-01</td>\n",
       "      <td>Calgary, Alberta</td>\n",
       "      <td>Regular unleaded gasoline at full service fill...</td>\n",
       "      <td>18.9</td>\n",
       "      <td>Calgary</td>\n",
       "      <td>Alberta</td>\n",
       "      <td>Mar</td>\n",
       "      <td>1979</td>\n",
       "    </tr>\n",
       "    <tr>\n",
       "      <th>58</th>\n",
       "      <td>1979-04-01</td>\n",
       "      <td>Calgary, Alberta</td>\n",
       "      <td>Regular unleaded gasoline at full service fill...</td>\n",
       "      <td>19.1</td>\n",
       "      <td>Calgary</td>\n",
       "      <td>Alberta</td>\n",
       "      <td>Apr</td>\n",
       "      <td>1979</td>\n",
       "    </tr>\n",
       "    <tr>\n",
       "      <th>73</th>\n",
       "      <td>1979-05-01</td>\n",
       "      <td>Calgary, Alberta</td>\n",
       "      <td>Regular unleaded gasoline at full service fill...</td>\n",
       "      <td>19.2</td>\n",
       "      <td>Calgary</td>\n",
       "      <td>Alberta</td>\n",
       "      <td>May</td>\n",
       "      <td>1979</td>\n",
       "    </tr>\n",
       "    <tr>\n",
       "      <th>...</th>\n",
       "      <td>...</td>\n",
       "      <td>...</td>\n",
       "      <td>...</td>\n",
       "      <td>...</td>\n",
       "      <td>...</td>\n",
       "      <td>...</td>\n",
       "      <td>...</td>\n",
       "      <td>...</td>\n",
       "    </tr>\n",
       "    <tr>\n",
       "      <th>41855</th>\n",
       "      <td>2021-09-01</td>\n",
       "      <td>Calgary, Alberta</td>\n",
       "      <td>Premium unleaded gasoline at self service fill...</td>\n",
       "      <td>156.6</td>\n",
       "      <td>Calgary</td>\n",
       "      <td>Alberta</td>\n",
       "      <td>Sep</td>\n",
       "      <td>2021</td>\n",
       "    </tr>\n",
       "    <tr>\n",
       "      <th>41856</th>\n",
       "      <td>2021-09-01</td>\n",
       "      <td>Calgary, Alberta</td>\n",
       "      <td>Diesel fuel at self service filling stations</td>\n",
       "      <td>125.1</td>\n",
       "      <td>Calgary</td>\n",
       "      <td>Alberta</td>\n",
       "      <td>Sep</td>\n",
       "      <td>2021</td>\n",
       "    </tr>\n",
       "    <tr>\n",
       "      <th>41923</th>\n",
       "      <td>2021-10-01</td>\n",
       "      <td>Calgary, Alberta</td>\n",
       "      <td>Regular unleaded gasoline at self service fill...</td>\n",
       "      <td>140.8</td>\n",
       "      <td>Calgary</td>\n",
       "      <td>Alberta</td>\n",
       "      <td>Oct</td>\n",
       "      <td>2021</td>\n",
       "    </tr>\n",
       "    <tr>\n",
       "      <th>41924</th>\n",
       "      <td>2021-10-01</td>\n",
       "      <td>Calgary, Alberta</td>\n",
       "      <td>Premium unleaded gasoline at self service fill...</td>\n",
       "      <td>164.4</td>\n",
       "      <td>Calgary</td>\n",
       "      <td>Alberta</td>\n",
       "      <td>Oct</td>\n",
       "      <td>2021</td>\n",
       "    </tr>\n",
       "    <tr>\n",
       "      <th>41925</th>\n",
       "      <td>2021-10-01</td>\n",
       "      <td>Calgary, Alberta</td>\n",
       "      <td>Diesel fuel at self service filling stations</td>\n",
       "      <td>138.3</td>\n",
       "      <td>Calgary</td>\n",
       "      <td>Alberta</td>\n",
       "      <td>Oct</td>\n",
       "      <td>2021</td>\n",
       "    </tr>\n",
       "  </tbody>\n",
       "</table>\n",
       "<p>2109 rows × 8 columns</p>\n",
       "</div>"
      ],
      "text/plain": [
       "            DATE               GEO  \\\n",
       "13    1979-01-01  Calgary, Alberta   \n",
       "28    1979-02-01  Calgary, Alberta   \n",
       "43    1979-03-01  Calgary, Alberta   \n",
       "58    1979-04-01  Calgary, Alberta   \n",
       "73    1979-05-01  Calgary, Alberta   \n",
       "...          ...               ...   \n",
       "41855 2021-09-01  Calgary, Alberta   \n",
       "41856 2021-09-01  Calgary, Alberta   \n",
       "41923 2021-10-01  Calgary, Alberta   \n",
       "41924 2021-10-01  Calgary, Alberta   \n",
       "41925 2021-10-01  Calgary, Alberta   \n",
       "\n",
       "                                                    TYPE  VALUE     City  \\\n",
       "13     Regular unleaded gasoline at full service fill...   18.7  Calgary   \n",
       "28     Regular unleaded gasoline at full service fill...   18.9  Calgary   \n",
       "43     Regular unleaded gasoline at full service fill...   18.9  Calgary   \n",
       "58     Regular unleaded gasoline at full service fill...   19.1  Calgary   \n",
       "73     Regular unleaded gasoline at full service fill...   19.2  Calgary   \n",
       "...                                                  ...    ...      ...   \n",
       "41855  Premium unleaded gasoline at self service fill...  156.6  Calgary   \n",
       "41856       Diesel fuel at self service filling stations  125.1  Calgary   \n",
       "41923  Regular unleaded gasoline at self service fill...  140.8  Calgary   \n",
       "41924  Premium unleaded gasoline at self service fill...  164.4  Calgary   \n",
       "41925       Diesel fuel at self service filling stations  138.3  Calgary   \n",
       "\n",
       "       Province Month  Year  \n",
       "13      Alberta   Jan  1979  \n",
       "28      Alberta   Feb  1979  \n",
       "43      Alberta   Mar  1979  \n",
       "58      Alberta   Apr  1979  \n",
       "73      Alberta   May  1979  \n",
       "...         ...   ...   ...  \n",
       "41855   Alberta   Sep  2021  \n",
       "41856   Alberta   Sep  2021  \n",
       "41923   Alberta   Oct  2021  \n",
       "41924   Alberta   Oct  2021  \n",
       "41925   Alberta   Oct  2021  \n",
       "\n",
       "[2109 rows x 8 columns]"
      ]
     },
     "execution_count": 42,
     "metadata": {},
     "output_type": "execute_result"
    }
   ],
   "source": [
    "second_filt = data['Year'] == 2000\n",
    "sel_years = data[filt]\n",
    "sel_years"
   ]
  },
  {
   "cell_type": "markdown",
   "metadata": {},
   "source": [
    "### Filtering by multiple conditions\n"
   ]
  },
  {
   "cell_type": "markdown",
   "metadata": {},
   "source": [
    "There are many alternative ways to perform filtering in pandas. We can also use '|' ('or') and '&' (and) to select multiple columns and rows. \n"
   ]
  },
  {
   "cell_type": "markdown",
   "metadata": {},
   "source": [
    "For example, let us select Toronto and Edmonton locations.\n"
   ]
  },
  {
   "cell_type": "code",
   "execution_count": 43,
   "metadata": {},
   "outputs": [
    {
     "data": {
      "text/html": [
       "<div>\n",
       "<style scoped>\n",
       "    .dataframe tbody tr th:only-of-type {\n",
       "        vertical-align: middle;\n",
       "    }\n",
       "\n",
       "    .dataframe tbody tr th {\n",
       "        vertical-align: top;\n",
       "    }\n",
       "\n",
       "    .dataframe thead th {\n",
       "        text-align: right;\n",
       "    }\n",
       "</style>\n",
       "<table border=\"1\" class=\"dataframe\">\n",
       "  <thead>\n",
       "    <tr style=\"text-align: right;\">\n",
       "      <th></th>\n",
       "      <th>DATE</th>\n",
       "      <th>GEO</th>\n",
       "      <th>TYPE</th>\n",
       "      <th>VALUE</th>\n",
       "      <th>City</th>\n",
       "      <th>Province</th>\n",
       "      <th>Month</th>\n",
       "      <th>Year</th>\n",
       "    </tr>\n",
       "  </thead>\n",
       "  <tbody>\n",
       "    <tr>\n",
       "      <th>7</th>\n",
       "      <td>1979-01-01</td>\n",
       "      <td>Toronto, Ontario</td>\n",
       "      <td>Regular unleaded gasoline at full service fill...</td>\n",
       "      <td>23.0</td>\n",
       "      <td>Toronto</td>\n",
       "      <td>Ontario</td>\n",
       "      <td>Jan</td>\n",
       "      <td>1979</td>\n",
       "    </tr>\n",
       "    <tr>\n",
       "      <th>12</th>\n",
       "      <td>1979-01-01</td>\n",
       "      <td>Edmonton, Alberta</td>\n",
       "      <td>Regular unleaded gasoline at full service fill...</td>\n",
       "      <td>18.3</td>\n",
       "      <td>Edmonton</td>\n",
       "      <td>Alberta</td>\n",
       "      <td>Jan</td>\n",
       "      <td>1979</td>\n",
       "    </tr>\n",
       "    <tr>\n",
       "      <th>22</th>\n",
       "      <td>1979-02-01</td>\n",
       "      <td>Toronto, Ontario</td>\n",
       "      <td>Regular unleaded gasoline at full service fill...</td>\n",
       "      <td>23.2</td>\n",
       "      <td>Toronto</td>\n",
       "      <td>Ontario</td>\n",
       "      <td>Feb</td>\n",
       "      <td>1979</td>\n",
       "    </tr>\n",
       "    <tr>\n",
       "      <th>27</th>\n",
       "      <td>1979-02-01</td>\n",
       "      <td>Edmonton, Alberta</td>\n",
       "      <td>Regular unleaded gasoline at full service fill...</td>\n",
       "      <td>18.5</td>\n",
       "      <td>Edmonton</td>\n",
       "      <td>Alberta</td>\n",
       "      <td>Feb</td>\n",
       "      <td>1979</td>\n",
       "    </tr>\n",
       "    <tr>\n",
       "      <th>37</th>\n",
       "      <td>1979-03-01</td>\n",
       "      <td>Toronto, Ontario</td>\n",
       "      <td>Regular unleaded gasoline at full service fill...</td>\n",
       "      <td>23.2</td>\n",
       "      <td>Toronto</td>\n",
       "      <td>Ontario</td>\n",
       "      <td>Mar</td>\n",
       "      <td>1979</td>\n",
       "    </tr>\n",
       "    <tr>\n",
       "      <th>...</th>\n",
       "      <td>...</td>\n",
       "      <td>...</td>\n",
       "      <td>...</td>\n",
       "      <td>...</td>\n",
       "      <td>...</td>\n",
       "      <td>...</td>\n",
       "      <td>...</td>\n",
       "      <td>...</td>\n",
       "    </tr>\n",
       "    <tr>\n",
       "      <th>41903</th>\n",
       "      <td>2021-10-01</td>\n",
       "      <td>Toronto, Ontario</td>\n",
       "      <td>Diesel fuel at self service filling stations</td>\n",
       "      <td>141.3</td>\n",
       "      <td>Toronto</td>\n",
       "      <td>Ontario</td>\n",
       "      <td>Oct</td>\n",
       "      <td>2021</td>\n",
       "    </tr>\n",
       "    <tr>\n",
       "      <th>41904</th>\n",
       "      <td>2021-10-01</td>\n",
       "      <td>Toronto, Ontario</td>\n",
       "      <td>Household heating fuel</td>\n",
       "      <td>148.0</td>\n",
       "      <td>Toronto</td>\n",
       "      <td>Ontario</td>\n",
       "      <td>Oct</td>\n",
       "      <td>2021</td>\n",
       "    </tr>\n",
       "    <tr>\n",
       "      <th>41920</th>\n",
       "      <td>2021-10-01</td>\n",
       "      <td>Edmonton, Alberta</td>\n",
       "      <td>Regular unleaded gasoline at self service fill...</td>\n",
       "      <td>138.3</td>\n",
       "      <td>Edmonton</td>\n",
       "      <td>Alberta</td>\n",
       "      <td>Oct</td>\n",
       "      <td>2021</td>\n",
       "    </tr>\n",
       "    <tr>\n",
       "      <th>41921</th>\n",
       "      <td>2021-10-01</td>\n",
       "      <td>Edmonton, Alberta</td>\n",
       "      <td>Premium unleaded gasoline at self service fill...</td>\n",
       "      <td>159.6</td>\n",
       "      <td>Edmonton</td>\n",
       "      <td>Alberta</td>\n",
       "      <td>Oct</td>\n",
       "      <td>2021</td>\n",
       "    </tr>\n",
       "    <tr>\n",
       "      <th>41922</th>\n",
       "      <td>2021-10-01</td>\n",
       "      <td>Edmonton, Alberta</td>\n",
       "      <td>Diesel fuel at self service filling stations</td>\n",
       "      <td>134.7</td>\n",
       "      <td>Edmonton</td>\n",
       "      <td>Alberta</td>\n",
       "      <td>Oct</td>\n",
       "      <td>2021</td>\n",
       "    </tr>\n",
       "  </tbody>\n",
       "</table>\n",
       "<p>4600 rows × 8 columns</p>\n",
       "</div>"
      ],
      "text/plain": [
       "            DATE                GEO  \\\n",
       "7     1979-01-01   Toronto, Ontario   \n",
       "12    1979-01-01  Edmonton, Alberta   \n",
       "22    1979-02-01   Toronto, Ontario   \n",
       "27    1979-02-01  Edmonton, Alberta   \n",
       "37    1979-03-01   Toronto, Ontario   \n",
       "...          ...                ...   \n",
       "41903 2021-10-01   Toronto, Ontario   \n",
       "41904 2021-10-01   Toronto, Ontario   \n",
       "41920 2021-10-01  Edmonton, Alberta   \n",
       "41921 2021-10-01  Edmonton, Alberta   \n",
       "41922 2021-10-01  Edmonton, Alberta   \n",
       "\n",
       "                                                    TYPE  VALUE      City  \\\n",
       "7      Regular unleaded gasoline at full service fill...   23.0   Toronto   \n",
       "12     Regular unleaded gasoline at full service fill...   18.3  Edmonton   \n",
       "22     Regular unleaded gasoline at full service fill...   23.2   Toronto   \n",
       "27     Regular unleaded gasoline at full service fill...   18.5  Edmonton   \n",
       "37     Regular unleaded gasoline at full service fill...   23.2   Toronto   \n",
       "...                                                  ...    ...       ...   \n",
       "41903       Diesel fuel at self service filling stations  141.3   Toronto   \n",
       "41904                             Household heating fuel  148.0   Toronto   \n",
       "41920  Regular unleaded gasoline at self service fill...  138.3  Edmonton   \n",
       "41921  Premium unleaded gasoline at self service fill...  159.6  Edmonton   \n",
       "41922       Diesel fuel at self service filling stations  134.7  Edmonton   \n",
       "\n",
       "       Province Month  Year  \n",
       "7       Ontario   Jan  1979  \n",
       "12      Alberta   Jan  1979  \n",
       "22      Ontario   Feb  1979  \n",
       "27      Alberta   Feb  1979  \n",
       "37      Ontario   Mar  1979  \n",
       "...         ...   ...   ...  \n",
       "41903   Ontario   Oct  2021  \n",
       "41904   Ontario   Oct  2021  \n",
       "41920   Alberta   Oct  2021  \n",
       "41921   Alberta   Oct  2021  \n",
       "41922   Alberta   Oct  2021  \n",
       "\n",
       "[4600 rows x 8 columns]"
      ]
     },
     "execution_count": 43,
     "metadata": {},
     "output_type": "execute_result"
    }
   ],
   "source": [
    "mult_loc = data[(data['GEO'] == \"Toronto, Ontario\") | (data['GEO'] == \"Edmonton, Alberta\")]\n",
    "mult_loc"
   ]
  },
  {
   "cell_type": "markdown",
   "metadata": {},
   "source": [
    "Alternatively, we can use `isin` method to select multiple locations.\n"
   ]
  },
  {
   "cell_type": "code",
   "execution_count": 44,
   "metadata": {},
   "outputs": [
    {
     "data": {
      "text/html": [
       "<div>\n",
       "<style scoped>\n",
       "    .dataframe tbody tr th:only-of-type {\n",
       "        vertical-align: middle;\n",
       "    }\n",
       "\n",
       "    .dataframe tbody tr th {\n",
       "        vertical-align: top;\n",
       "    }\n",
       "\n",
       "    .dataframe thead th {\n",
       "        text-align: right;\n",
       "    }\n",
       "</style>\n",
       "<table border=\"1\" class=\"dataframe\">\n",
       "  <thead>\n",
       "    <tr style=\"text-align: right;\">\n",
       "      <th></th>\n",
       "      <th>DATE</th>\n",
       "      <th>GEO</th>\n",
       "      <th>TYPE</th>\n",
       "      <th>VALUE</th>\n",
       "      <th>City</th>\n",
       "      <th>Province</th>\n",
       "      <th>Month</th>\n",
       "      <th>Year</th>\n",
       "    </tr>\n",
       "  </thead>\n",
       "  <tbody>\n",
       "    <tr>\n",
       "      <th>7</th>\n",
       "      <td>1979-01-01</td>\n",
       "      <td>Toronto, Ontario</td>\n",
       "      <td>Regular unleaded gasoline at full service fill...</td>\n",
       "      <td>23.0</td>\n",
       "      <td>Toronto</td>\n",
       "      <td>Ontario</td>\n",
       "      <td>Jan</td>\n",
       "      <td>1979</td>\n",
       "    </tr>\n",
       "    <tr>\n",
       "      <th>12</th>\n",
       "      <td>1979-01-01</td>\n",
       "      <td>Edmonton, Alberta</td>\n",
       "      <td>Regular unleaded gasoline at full service fill...</td>\n",
       "      <td>18.3</td>\n",
       "      <td>Edmonton</td>\n",
       "      <td>Alberta</td>\n",
       "      <td>Jan</td>\n",
       "      <td>1979</td>\n",
       "    </tr>\n",
       "    <tr>\n",
       "      <th>13</th>\n",
       "      <td>1979-01-01</td>\n",
       "      <td>Calgary, Alberta</td>\n",
       "      <td>Regular unleaded gasoline at full service fill...</td>\n",
       "      <td>18.7</td>\n",
       "      <td>Calgary</td>\n",
       "      <td>Alberta</td>\n",
       "      <td>Jan</td>\n",
       "      <td>1979</td>\n",
       "    </tr>\n",
       "    <tr>\n",
       "      <th>22</th>\n",
       "      <td>1979-02-01</td>\n",
       "      <td>Toronto, Ontario</td>\n",
       "      <td>Regular unleaded gasoline at full service fill...</td>\n",
       "      <td>23.2</td>\n",
       "      <td>Toronto</td>\n",
       "      <td>Ontario</td>\n",
       "      <td>Feb</td>\n",
       "      <td>1979</td>\n",
       "    </tr>\n",
       "    <tr>\n",
       "      <th>27</th>\n",
       "      <td>1979-02-01</td>\n",
       "      <td>Edmonton, Alberta</td>\n",
       "      <td>Regular unleaded gasoline at full service fill...</td>\n",
       "      <td>18.5</td>\n",
       "      <td>Edmonton</td>\n",
       "      <td>Alberta</td>\n",
       "      <td>Feb</td>\n",
       "      <td>1979</td>\n",
       "    </tr>\n",
       "    <tr>\n",
       "      <th>...</th>\n",
       "      <td>...</td>\n",
       "      <td>...</td>\n",
       "      <td>...</td>\n",
       "      <td>...</td>\n",
       "      <td>...</td>\n",
       "      <td>...</td>\n",
       "      <td>...</td>\n",
       "      <td>...</td>\n",
       "    </tr>\n",
       "    <tr>\n",
       "      <th>41921</th>\n",
       "      <td>2021-10-01</td>\n",
       "      <td>Edmonton, Alberta</td>\n",
       "      <td>Premium unleaded gasoline at self service fill...</td>\n",
       "      <td>159.6</td>\n",
       "      <td>Edmonton</td>\n",
       "      <td>Alberta</td>\n",
       "      <td>Oct</td>\n",
       "      <td>2021</td>\n",
       "    </tr>\n",
       "    <tr>\n",
       "      <th>41922</th>\n",
       "      <td>2021-10-01</td>\n",
       "      <td>Edmonton, Alberta</td>\n",
       "      <td>Diesel fuel at self service filling stations</td>\n",
       "      <td>134.7</td>\n",
       "      <td>Edmonton</td>\n",
       "      <td>Alberta</td>\n",
       "      <td>Oct</td>\n",
       "      <td>2021</td>\n",
       "    </tr>\n",
       "    <tr>\n",
       "      <th>41923</th>\n",
       "      <td>2021-10-01</td>\n",
       "      <td>Calgary, Alberta</td>\n",
       "      <td>Regular unleaded gasoline at self service fill...</td>\n",
       "      <td>140.8</td>\n",
       "      <td>Calgary</td>\n",
       "      <td>Alberta</td>\n",
       "      <td>Oct</td>\n",
       "      <td>2021</td>\n",
       "    </tr>\n",
       "    <tr>\n",
       "      <th>41924</th>\n",
       "      <td>2021-10-01</td>\n",
       "      <td>Calgary, Alberta</td>\n",
       "      <td>Premium unleaded gasoline at self service fill...</td>\n",
       "      <td>164.4</td>\n",
       "      <td>Calgary</td>\n",
       "      <td>Alberta</td>\n",
       "      <td>Oct</td>\n",
       "      <td>2021</td>\n",
       "    </tr>\n",
       "    <tr>\n",
       "      <th>41925</th>\n",
       "      <td>2021-10-01</td>\n",
       "      <td>Calgary, Alberta</td>\n",
       "      <td>Diesel fuel at self service filling stations</td>\n",
       "      <td>138.3</td>\n",
       "      <td>Calgary</td>\n",
       "      <td>Alberta</td>\n",
       "      <td>Oct</td>\n",
       "      <td>2021</td>\n",
       "    </tr>\n",
       "  </tbody>\n",
       "</table>\n",
       "<p>6709 rows × 8 columns</p>\n",
       "</div>"
      ],
      "text/plain": [
       "            DATE                GEO  \\\n",
       "7     1979-01-01   Toronto, Ontario   \n",
       "12    1979-01-01  Edmonton, Alberta   \n",
       "13    1979-01-01   Calgary, Alberta   \n",
       "22    1979-02-01   Toronto, Ontario   \n",
       "27    1979-02-01  Edmonton, Alberta   \n",
       "...          ...                ...   \n",
       "41921 2021-10-01  Edmonton, Alberta   \n",
       "41922 2021-10-01  Edmonton, Alberta   \n",
       "41923 2021-10-01   Calgary, Alberta   \n",
       "41924 2021-10-01   Calgary, Alberta   \n",
       "41925 2021-10-01   Calgary, Alberta   \n",
       "\n",
       "                                                    TYPE  VALUE      City  \\\n",
       "7      Regular unleaded gasoline at full service fill...   23.0   Toronto   \n",
       "12     Regular unleaded gasoline at full service fill...   18.3  Edmonton   \n",
       "13     Regular unleaded gasoline at full service fill...   18.7   Calgary   \n",
       "22     Regular unleaded gasoline at full service fill...   23.2   Toronto   \n",
       "27     Regular unleaded gasoline at full service fill...   18.5  Edmonton   \n",
       "...                                                  ...    ...       ...   \n",
       "41921  Premium unleaded gasoline at self service fill...  159.6  Edmonton   \n",
       "41922       Diesel fuel at self service filling stations  134.7  Edmonton   \n",
       "41923  Regular unleaded gasoline at self service fill...  140.8   Calgary   \n",
       "41924  Premium unleaded gasoline at self service fill...  164.4   Calgary   \n",
       "41925       Diesel fuel at self service filling stations  138.3   Calgary   \n",
       "\n",
       "       Province Month  Year  \n",
       "7       Ontario   Jan  1979  \n",
       "12      Alberta   Jan  1979  \n",
       "13      Alberta   Jan  1979  \n",
       "22      Ontario   Feb  1979  \n",
       "27      Alberta   Feb  1979  \n",
       "...         ...   ...   ...  \n",
       "41921   Alberta   Oct  2021  \n",
       "41922   Alberta   Oct  2021  \n",
       "41923   Alberta   Oct  2021  \n",
       "41924   Alberta   Oct  2021  \n",
       "41925   Alberta   Oct  2021  \n",
       "\n",
       "[6709 rows x 8 columns]"
      ]
     },
     "execution_count": 44,
     "metadata": {},
     "output_type": "execute_result"
    }
   ],
   "source": [
    "cities = ['Calgary', 'Toronto', 'Edmonton']\n",
    "CTE = data[data['City'].isin(cities)]\n",
    "CTE"
   ]
  },
  {
   "cell_type": "markdown",
   "metadata": {},
   "source": [
    "## Exercise 2 a\n"
   ]
  },
  {
   "cell_type": "markdown",
   "metadata": {},
   "source": [
    "In this exercise, please use the examples shown above, to select the data that shows the price of the 'household heating fuel', in Vancouver, in 1990.\n"
   ]
  },
  {
   "cell_type": "code",
   "execution_count": 53,
   "metadata": {},
   "outputs": [
    {
     "data": {
      "text/html": [
       "<div>\n",
       "<style scoped>\n",
       "    .dataframe tbody tr th:only-of-type {\n",
       "        vertical-align: middle;\n",
       "    }\n",
       "\n",
       "    .dataframe tbody tr th {\n",
       "        vertical-align: top;\n",
       "    }\n",
       "\n",
       "    .dataframe thead th {\n",
       "        text-align: right;\n",
       "    }\n",
       "</style>\n",
       "<table border=\"1\" class=\"dataframe\">\n",
       "  <thead>\n",
       "    <tr style=\"text-align: right;\">\n",
       "      <th></th>\n",
       "      <th>DATE</th>\n",
       "      <th>GEO</th>\n",
       "      <th>TYPE</th>\n",
       "      <th>VALUE</th>\n",
       "      <th>City</th>\n",
       "      <th>Province</th>\n",
       "      <th>Month</th>\n",
       "      <th>Year</th>\n",
       "    </tr>\n",
       "  </thead>\n",
       "  <tbody>\n",
       "    <tr>\n",
       "      <th>2192</th>\n",
       "      <td>1990-01-01</td>\n",
       "      <td>Vancouver, British Columbia</td>\n",
       "      <td>Household heating fuel</td>\n",
       "      <td>32.4</td>\n",
       "      <td>Vancouver</td>\n",
       "      <td>British Columbia</td>\n",
       "      <td>Jan</td>\n",
       "      <td>1990</td>\n",
       "    </tr>\n",
       "    <tr>\n",
       "      <th>2304</th>\n",
       "      <td>1990-02-01</td>\n",
       "      <td>Vancouver, British Columbia</td>\n",
       "      <td>Household heating fuel</td>\n",
       "      <td>33.7</td>\n",
       "      <td>Vancouver</td>\n",
       "      <td>British Columbia</td>\n",
       "      <td>Feb</td>\n",
       "      <td>1990</td>\n",
       "    </tr>\n",
       "    <tr>\n",
       "      <th>2416</th>\n",
       "      <td>1990-03-01</td>\n",
       "      <td>Vancouver, British Columbia</td>\n",
       "      <td>Household heating fuel</td>\n",
       "      <td>34.0</td>\n",
       "      <td>Vancouver</td>\n",
       "      <td>British Columbia</td>\n",
       "      <td>Mar</td>\n",
       "      <td>1990</td>\n",
       "    </tr>\n",
       "    <tr>\n",
       "      <th>2528</th>\n",
       "      <td>1990-04-01</td>\n",
       "      <td>Vancouver, British Columbia</td>\n",
       "      <td>Household heating fuel</td>\n",
       "      <td>34.5</td>\n",
       "      <td>Vancouver</td>\n",
       "      <td>British Columbia</td>\n",
       "      <td>Apr</td>\n",
       "      <td>1990</td>\n",
       "    </tr>\n",
       "    <tr>\n",
       "      <th>2640</th>\n",
       "      <td>1990-05-01</td>\n",
       "      <td>Vancouver, British Columbia</td>\n",
       "      <td>Household heating fuel</td>\n",
       "      <td>34.5</td>\n",
       "      <td>Vancouver</td>\n",
       "      <td>British Columbia</td>\n",
       "      <td>May</td>\n",
       "      <td>1990</td>\n",
       "    </tr>\n",
       "    <tr>\n",
       "      <th>2752</th>\n",
       "      <td>1990-06-01</td>\n",
       "      <td>Vancouver, British Columbia</td>\n",
       "      <td>Household heating fuel</td>\n",
       "      <td>34.5</td>\n",
       "      <td>Vancouver</td>\n",
       "      <td>British Columbia</td>\n",
       "      <td>Jun</td>\n",
       "      <td>1990</td>\n",
       "    </tr>\n",
       "    <tr>\n",
       "      <th>2864</th>\n",
       "      <td>1990-07-01</td>\n",
       "      <td>Vancouver, British Columbia</td>\n",
       "      <td>Household heating fuel</td>\n",
       "      <td>34.5</td>\n",
       "      <td>Vancouver</td>\n",
       "      <td>British Columbia</td>\n",
       "      <td>Jul</td>\n",
       "      <td>1990</td>\n",
       "    </tr>\n",
       "    <tr>\n",
       "      <th>2976</th>\n",
       "      <td>1990-08-01</td>\n",
       "      <td>Vancouver, British Columbia</td>\n",
       "      <td>Household heating fuel</td>\n",
       "      <td>34.5</td>\n",
       "      <td>Vancouver</td>\n",
       "      <td>British Columbia</td>\n",
       "      <td>Aug</td>\n",
       "      <td>1990</td>\n",
       "    </tr>\n",
       "    <tr>\n",
       "      <th>3088</th>\n",
       "      <td>1990-09-01</td>\n",
       "      <td>Vancouver, British Columbia</td>\n",
       "      <td>Household heating fuel</td>\n",
       "      <td>36.7</td>\n",
       "      <td>Vancouver</td>\n",
       "      <td>British Columbia</td>\n",
       "      <td>Sep</td>\n",
       "      <td>1990</td>\n",
       "    </tr>\n",
       "    <tr>\n",
       "      <th>3200</th>\n",
       "      <td>1990-10-01</td>\n",
       "      <td>Vancouver, British Columbia</td>\n",
       "      <td>Household heating fuel</td>\n",
       "      <td>41.8</td>\n",
       "      <td>Vancouver</td>\n",
       "      <td>British Columbia</td>\n",
       "      <td>Oct</td>\n",
       "      <td>1990</td>\n",
       "    </tr>\n",
       "    <tr>\n",
       "      <th>3312</th>\n",
       "      <td>1990-11-01</td>\n",
       "      <td>Vancouver, British Columbia</td>\n",
       "      <td>Household heating fuel</td>\n",
       "      <td>42.7</td>\n",
       "      <td>Vancouver</td>\n",
       "      <td>British Columbia</td>\n",
       "      <td>Nov</td>\n",
       "      <td>1990</td>\n",
       "    </tr>\n",
       "    <tr>\n",
       "      <th>3424</th>\n",
       "      <td>1990-12-01</td>\n",
       "      <td>Vancouver, British Columbia</td>\n",
       "      <td>Household heating fuel</td>\n",
       "      <td>45.7</td>\n",
       "      <td>Vancouver</td>\n",
       "      <td>British Columbia</td>\n",
       "      <td>Dec</td>\n",
       "      <td>1990</td>\n",
       "    </tr>\n",
       "  </tbody>\n",
       "</table>\n",
       "</div>"
      ],
      "text/plain": [
       "           DATE                          GEO                    TYPE  VALUE  \\\n",
       "2192 1990-01-01  Vancouver, British Columbia  Household heating fuel   32.4   \n",
       "2304 1990-02-01  Vancouver, British Columbia  Household heating fuel   33.7   \n",
       "2416 1990-03-01  Vancouver, British Columbia  Household heating fuel   34.0   \n",
       "2528 1990-04-01  Vancouver, British Columbia  Household heating fuel   34.5   \n",
       "2640 1990-05-01  Vancouver, British Columbia  Household heating fuel   34.5   \n",
       "2752 1990-06-01  Vancouver, British Columbia  Household heating fuel   34.5   \n",
       "2864 1990-07-01  Vancouver, British Columbia  Household heating fuel   34.5   \n",
       "2976 1990-08-01  Vancouver, British Columbia  Household heating fuel   34.5   \n",
       "3088 1990-09-01  Vancouver, British Columbia  Household heating fuel   36.7   \n",
       "3200 1990-10-01  Vancouver, British Columbia  Household heating fuel   41.8   \n",
       "3312 1990-11-01  Vancouver, British Columbia  Household heating fuel   42.7   \n",
       "3424 1990-12-01  Vancouver, British Columbia  Household heating fuel   45.7   \n",
       "\n",
       "           City           Province Month  Year  \n",
       "2192  Vancouver   British Columbia   Jan  1990  \n",
       "2304  Vancouver   British Columbia   Feb  1990  \n",
       "2416  Vancouver   British Columbia   Mar  1990  \n",
       "2528  Vancouver   British Columbia   Apr  1990  \n",
       "2640  Vancouver   British Columbia   May  1990  \n",
       "2752  Vancouver   British Columbia   Jun  1990  \n",
       "2864  Vancouver   British Columbia   Jul  1990  \n",
       "2976  Vancouver   British Columbia   Aug  1990  \n",
       "3088  Vancouver   British Columbia   Sep  1990  \n",
       "3200  Vancouver   British Columbia   Oct  1990  \n",
       "3312  Vancouver   British Columbia   Nov  1990  \n",
       "3424  Vancouver   British Columbia   Dec  1990  "
      ]
     },
     "execution_count": 53,
     "metadata": {},
     "output_type": "execute_result"
    }
   ],
   "source": [
    "# Enter your code below and run the cell\n",
    "third_filt = ( (data['TYPE'] == 'Household heating fuel') & (data['Year'] == 1990) & (data['City'] == 'Vancouver') )\n",
    "data[third_filt]"
   ]
  },
  {
   "cell_type": "markdown",
   "metadata": {},
   "source": [
    "<details>\n",
    "<summary><strong>Solution</strong> (Click Here)</summary>\n",
    "    &emsp; &emsp; <code>\n",
    "exercise2a = data[( data['Year'] ==  1990) & (data['TYPE'] == \"Household heating fuel\") & (data['City']=='Vancouver')]\n",
    "exercise2a\n",
    "</code>\n",
    "</details>\n"
   ]
  },
  {
   "cell_type": "markdown",
   "metadata": {},
   "source": [
    "## Exercise 2 b\n"
   ]
  },
  {
   "cell_type": "markdown",
   "metadata": {},
   "source": [
    "In this exercise, please select the data that shows the price of the 'household heating fuel', in Vancouver, in the years of 1979 and 2021.\n"
   ]
  },
  {
   "cell_type": "code",
   "execution_count": 54,
   "metadata": {},
   "outputs": [
    {
     "data": {
      "text/html": [
       "<div>\n",
       "<style scoped>\n",
       "    .dataframe tbody tr th:only-of-type {\n",
       "        vertical-align: middle;\n",
       "    }\n",
       "\n",
       "    .dataframe tbody tr th {\n",
       "        vertical-align: top;\n",
       "    }\n",
       "\n",
       "    .dataframe thead th {\n",
       "        text-align: right;\n",
       "    }\n",
       "</style>\n",
       "<table border=\"1\" class=\"dataframe\">\n",
       "  <thead>\n",
       "    <tr style=\"text-align: right;\">\n",
       "      <th></th>\n",
       "      <th>DATE</th>\n",
       "      <th>GEO</th>\n",
       "      <th>TYPE</th>\n",
       "      <th>VALUE</th>\n",
       "      <th>City</th>\n",
       "      <th>Province</th>\n",
       "      <th>Month</th>\n",
       "      <th>Year</th>\n",
       "    </tr>\n",
       "  </thead>\n",
       "  <tbody>\n",
       "    <tr>\n",
       "      <th>2192</th>\n",
       "      <td>1990-01-01</td>\n",
       "      <td>Vancouver, British Columbia</td>\n",
       "      <td>Household heating fuel</td>\n",
       "      <td>32.4</td>\n",
       "      <td>Vancouver</td>\n",
       "      <td>British Columbia</td>\n",
       "      <td>Jan</td>\n",
       "      <td>1990</td>\n",
       "    </tr>\n",
       "    <tr>\n",
       "      <th>2304</th>\n",
       "      <td>1990-02-01</td>\n",
       "      <td>Vancouver, British Columbia</td>\n",
       "      <td>Household heating fuel</td>\n",
       "      <td>33.7</td>\n",
       "      <td>Vancouver</td>\n",
       "      <td>British Columbia</td>\n",
       "      <td>Feb</td>\n",
       "      <td>1990</td>\n",
       "    </tr>\n",
       "    <tr>\n",
       "      <th>2416</th>\n",
       "      <td>1990-03-01</td>\n",
       "      <td>Vancouver, British Columbia</td>\n",
       "      <td>Household heating fuel</td>\n",
       "      <td>34.0</td>\n",
       "      <td>Vancouver</td>\n",
       "      <td>British Columbia</td>\n",
       "      <td>Mar</td>\n",
       "      <td>1990</td>\n",
       "    </tr>\n",
       "    <tr>\n",
       "      <th>2528</th>\n",
       "      <td>1990-04-01</td>\n",
       "      <td>Vancouver, British Columbia</td>\n",
       "      <td>Household heating fuel</td>\n",
       "      <td>34.5</td>\n",
       "      <td>Vancouver</td>\n",
       "      <td>British Columbia</td>\n",
       "      <td>Apr</td>\n",
       "      <td>1990</td>\n",
       "    </tr>\n",
       "    <tr>\n",
       "      <th>2640</th>\n",
       "      <td>1990-05-01</td>\n",
       "      <td>Vancouver, British Columbia</td>\n",
       "      <td>Household heating fuel</td>\n",
       "      <td>34.5</td>\n",
       "      <td>Vancouver</td>\n",
       "      <td>British Columbia</td>\n",
       "      <td>May</td>\n",
       "      <td>1990</td>\n",
       "    </tr>\n",
       "    <tr>\n",
       "      <th>2752</th>\n",
       "      <td>1990-06-01</td>\n",
       "      <td>Vancouver, British Columbia</td>\n",
       "      <td>Household heating fuel</td>\n",
       "      <td>34.5</td>\n",
       "      <td>Vancouver</td>\n",
       "      <td>British Columbia</td>\n",
       "      <td>Jun</td>\n",
       "      <td>1990</td>\n",
       "    </tr>\n",
       "    <tr>\n",
       "      <th>2864</th>\n",
       "      <td>1990-07-01</td>\n",
       "      <td>Vancouver, British Columbia</td>\n",
       "      <td>Household heating fuel</td>\n",
       "      <td>34.5</td>\n",
       "      <td>Vancouver</td>\n",
       "      <td>British Columbia</td>\n",
       "      <td>Jul</td>\n",
       "      <td>1990</td>\n",
       "    </tr>\n",
       "    <tr>\n",
       "      <th>2976</th>\n",
       "      <td>1990-08-01</td>\n",
       "      <td>Vancouver, British Columbia</td>\n",
       "      <td>Household heating fuel</td>\n",
       "      <td>34.5</td>\n",
       "      <td>Vancouver</td>\n",
       "      <td>British Columbia</td>\n",
       "      <td>Aug</td>\n",
       "      <td>1990</td>\n",
       "    </tr>\n",
       "    <tr>\n",
       "      <th>3088</th>\n",
       "      <td>1990-09-01</td>\n",
       "      <td>Vancouver, British Columbia</td>\n",
       "      <td>Household heating fuel</td>\n",
       "      <td>36.7</td>\n",
       "      <td>Vancouver</td>\n",
       "      <td>British Columbia</td>\n",
       "      <td>Sep</td>\n",
       "      <td>1990</td>\n",
       "    </tr>\n",
       "    <tr>\n",
       "      <th>3200</th>\n",
       "      <td>1990-10-01</td>\n",
       "      <td>Vancouver, British Columbia</td>\n",
       "      <td>Household heating fuel</td>\n",
       "      <td>41.8</td>\n",
       "      <td>Vancouver</td>\n",
       "      <td>British Columbia</td>\n",
       "      <td>Oct</td>\n",
       "      <td>1990</td>\n",
       "    </tr>\n",
       "    <tr>\n",
       "      <th>3312</th>\n",
       "      <td>1990-11-01</td>\n",
       "      <td>Vancouver, British Columbia</td>\n",
       "      <td>Household heating fuel</td>\n",
       "      <td>42.7</td>\n",
       "      <td>Vancouver</td>\n",
       "      <td>British Columbia</td>\n",
       "      <td>Nov</td>\n",
       "      <td>1990</td>\n",
       "    </tr>\n",
       "    <tr>\n",
       "      <th>3424</th>\n",
       "      <td>1990-12-01</td>\n",
       "      <td>Vancouver, British Columbia</td>\n",
       "      <td>Household heating fuel</td>\n",
       "      <td>45.7</td>\n",
       "      <td>Vancouver</td>\n",
       "      <td>British Columbia</td>\n",
       "      <td>Dec</td>\n",
       "      <td>1990</td>\n",
       "    </tr>\n",
       "    <tr>\n",
       "      <th>41308</th>\n",
       "      <td>2021-01-01</td>\n",
       "      <td>Vancouver, British Columbia</td>\n",
       "      <td>Household heating fuel</td>\n",
       "      <td>112.4</td>\n",
       "      <td>Vancouver</td>\n",
       "      <td>British Columbia</td>\n",
       "      <td>Jan</td>\n",
       "      <td>2021</td>\n",
       "    </tr>\n",
       "    <tr>\n",
       "      <th>41377</th>\n",
       "      <td>2021-02-01</td>\n",
       "      <td>Vancouver, British Columbia</td>\n",
       "      <td>Household heating fuel</td>\n",
       "      <td>114.6</td>\n",
       "      <td>Vancouver</td>\n",
       "      <td>British Columbia</td>\n",
       "      <td>Feb</td>\n",
       "      <td>2021</td>\n",
       "    </tr>\n",
       "    <tr>\n",
       "      <th>41446</th>\n",
       "      <td>2021-03-01</td>\n",
       "      <td>Vancouver, British Columbia</td>\n",
       "      <td>Household heating fuel</td>\n",
       "      <td>123.8</td>\n",
       "      <td>Vancouver</td>\n",
       "      <td>British Columbia</td>\n",
       "      <td>Mar</td>\n",
       "      <td>2021</td>\n",
       "    </tr>\n",
       "    <tr>\n",
       "      <th>41515</th>\n",
       "      <td>2021-04-01</td>\n",
       "      <td>Vancouver, British Columbia</td>\n",
       "      <td>Household heating fuel</td>\n",
       "      <td>123.5</td>\n",
       "      <td>Vancouver</td>\n",
       "      <td>British Columbia</td>\n",
       "      <td>Apr</td>\n",
       "      <td>2021</td>\n",
       "    </tr>\n",
       "    <tr>\n",
       "      <th>41584</th>\n",
       "      <td>2021-05-01</td>\n",
       "      <td>Vancouver, British Columbia</td>\n",
       "      <td>Household heating fuel</td>\n",
       "      <td>128.4</td>\n",
       "      <td>Vancouver</td>\n",
       "      <td>British Columbia</td>\n",
       "      <td>May</td>\n",
       "      <td>2021</td>\n",
       "    </tr>\n",
       "    <tr>\n",
       "      <th>41653</th>\n",
       "      <td>2021-06-01</td>\n",
       "      <td>Vancouver, British Columbia</td>\n",
       "      <td>Household heating fuel</td>\n",
       "      <td>133.1</td>\n",
       "      <td>Vancouver</td>\n",
       "      <td>British Columbia</td>\n",
       "      <td>Jun</td>\n",
       "      <td>2021</td>\n",
       "    </tr>\n",
       "    <tr>\n",
       "      <th>41722</th>\n",
       "      <td>2021-07-01</td>\n",
       "      <td>Vancouver, British Columbia</td>\n",
       "      <td>Household heating fuel</td>\n",
       "      <td>135.2</td>\n",
       "      <td>Vancouver</td>\n",
       "      <td>British Columbia</td>\n",
       "      <td>Jul</td>\n",
       "      <td>2021</td>\n",
       "    </tr>\n",
       "    <tr>\n",
       "      <th>41791</th>\n",
       "      <td>2021-08-01</td>\n",
       "      <td>Vancouver, British Columbia</td>\n",
       "      <td>Household heating fuel</td>\n",
       "      <td>136.5</td>\n",
       "      <td>Vancouver</td>\n",
       "      <td>British Columbia</td>\n",
       "      <td>Aug</td>\n",
       "      <td>2021</td>\n",
       "    </tr>\n",
       "    <tr>\n",
       "      <th>41860</th>\n",
       "      <td>2021-09-01</td>\n",
       "      <td>Vancouver, British Columbia</td>\n",
       "      <td>Household heating fuel</td>\n",
       "      <td>140.9</td>\n",
       "      <td>Vancouver</td>\n",
       "      <td>British Columbia</td>\n",
       "      <td>Sep</td>\n",
       "      <td>2021</td>\n",
       "    </tr>\n",
       "    <tr>\n",
       "      <th>41929</th>\n",
       "      <td>2021-10-01</td>\n",
       "      <td>Vancouver, British Columbia</td>\n",
       "      <td>Household heating fuel</td>\n",
       "      <td>148.6</td>\n",
       "      <td>Vancouver</td>\n",
       "      <td>British Columbia</td>\n",
       "      <td>Oct</td>\n",
       "      <td>2021</td>\n",
       "    </tr>\n",
       "  </tbody>\n",
       "</table>\n",
       "</div>"
      ],
      "text/plain": [
       "            DATE                          GEO                    TYPE  VALUE  \\\n",
       "2192  1990-01-01  Vancouver, British Columbia  Household heating fuel   32.4   \n",
       "2304  1990-02-01  Vancouver, British Columbia  Household heating fuel   33.7   \n",
       "2416  1990-03-01  Vancouver, British Columbia  Household heating fuel   34.0   \n",
       "2528  1990-04-01  Vancouver, British Columbia  Household heating fuel   34.5   \n",
       "2640  1990-05-01  Vancouver, British Columbia  Household heating fuel   34.5   \n",
       "2752  1990-06-01  Vancouver, British Columbia  Household heating fuel   34.5   \n",
       "2864  1990-07-01  Vancouver, British Columbia  Household heating fuel   34.5   \n",
       "2976  1990-08-01  Vancouver, British Columbia  Household heating fuel   34.5   \n",
       "3088  1990-09-01  Vancouver, British Columbia  Household heating fuel   36.7   \n",
       "3200  1990-10-01  Vancouver, British Columbia  Household heating fuel   41.8   \n",
       "3312  1990-11-01  Vancouver, British Columbia  Household heating fuel   42.7   \n",
       "3424  1990-12-01  Vancouver, British Columbia  Household heating fuel   45.7   \n",
       "41308 2021-01-01  Vancouver, British Columbia  Household heating fuel  112.4   \n",
       "41377 2021-02-01  Vancouver, British Columbia  Household heating fuel  114.6   \n",
       "41446 2021-03-01  Vancouver, British Columbia  Household heating fuel  123.8   \n",
       "41515 2021-04-01  Vancouver, British Columbia  Household heating fuel  123.5   \n",
       "41584 2021-05-01  Vancouver, British Columbia  Household heating fuel  128.4   \n",
       "41653 2021-06-01  Vancouver, British Columbia  Household heating fuel  133.1   \n",
       "41722 2021-07-01  Vancouver, British Columbia  Household heating fuel  135.2   \n",
       "41791 2021-08-01  Vancouver, British Columbia  Household heating fuel  136.5   \n",
       "41860 2021-09-01  Vancouver, British Columbia  Household heating fuel  140.9   \n",
       "41929 2021-10-01  Vancouver, British Columbia  Household heating fuel  148.6   \n",
       "\n",
       "            City           Province Month  Year  \n",
       "2192   Vancouver   British Columbia   Jan  1990  \n",
       "2304   Vancouver   British Columbia   Feb  1990  \n",
       "2416   Vancouver   British Columbia   Mar  1990  \n",
       "2528   Vancouver   British Columbia   Apr  1990  \n",
       "2640   Vancouver   British Columbia   May  1990  \n",
       "2752   Vancouver   British Columbia   Jun  1990  \n",
       "2864   Vancouver   British Columbia   Jul  1990  \n",
       "2976   Vancouver   British Columbia   Aug  1990  \n",
       "3088   Vancouver   British Columbia   Sep  1990  \n",
       "3200   Vancouver   British Columbia   Oct  1990  \n",
       "3312   Vancouver   British Columbia   Nov  1990  \n",
       "3424   Vancouver   British Columbia   Dec  1990  \n",
       "41308  Vancouver   British Columbia   Jan  2021  \n",
       "41377  Vancouver   British Columbia   Feb  2021  \n",
       "41446  Vancouver   British Columbia   Mar  2021  \n",
       "41515  Vancouver   British Columbia   Apr  2021  \n",
       "41584  Vancouver   British Columbia   May  2021  \n",
       "41653  Vancouver   British Columbia   Jun  2021  \n",
       "41722  Vancouver   British Columbia   Jul  2021  \n",
       "41791  Vancouver   British Columbia   Aug  2021  \n",
       "41860  Vancouver   British Columbia   Sep  2021  \n",
       "41929  Vancouver   British Columbia   Oct  2021  "
      ]
     },
     "execution_count": 54,
     "metadata": {},
     "output_type": "execute_result"
    }
   ],
   "source": [
    "# Enter your code below and run the cell\n",
    "fourth_filt = ( \n",
    "    (data['TYPE'] == 'Household heating fuel') & \n",
    "    ((data['Year'] == 1990) | (data['Year'] == 2021)) &\n",
    "    (data['City'] == 'Vancouver') \n",
    ")\n",
    "data[fourth_filt]"
   ]
  },
  {
   "cell_type": "markdown",
   "metadata": {},
   "source": [
    "<details>\n",
    "<summary><strong>Solution</strong> (Click Here)</summary>\n",
    "    &emsp; &emsp; <code>\n",
    "exercise2b = data[( data['Year'] <=  1979) | ( data['Year'] ==  2021) & (data['TYPE'] == \"Household heating fuel\") & (data['City']=='Vancouver')]\n",
    "exercise2b\n",
    "</code>\n",
    "</details>\n"
   ]
  },
  {
   "cell_type": "markdown",
   "metadata": {},
   "source": [
    "<details>\n",
    "<summary><strong>Hint</strong> (Click Here)</summary>\n",
    "    &emsp; &emsp; <code>\n",
    "If we use '&' operator between the two years, it will return an empty data frame. This is because there was no data for the 'household heating fuel, in Vancouver, in 1979. Using 'or' operator is suitable because either one of two years that contains any information on 'household heating fuel' in Vancouver.\n",
    "</code>\n",
    "</details>\n"
   ]
  },
  {
   "cell_type": "markdown",
   "metadata": {},
   "source": [
    "### Filtering using `groupby()` method\n"
   ]
  },
  {
   "cell_type": "markdown",
   "metadata": {},
   "source": [
    "The role of `groupby()` is to analyze data by some categories. The simplest call is by a column name. For example, let’s use the 'GEO' column and `ngroups` function to calculate the number of groups (cities, provinces) in 'GEO' column.\n"
   ]
  },
  {
   "cell_type": "code",
   "execution_count": 66,
   "metadata": {},
   "outputs": [
    {
     "data": {
      "text/plain": [
       "18"
      ]
     },
     "execution_count": 66,
     "metadata": {},
     "output_type": "execute_result"
    }
   ],
   "source": [
    "geo = data.groupby('GEO')\n",
    "geo.ngroups"
   ]
  },
  {
   "cell_type": "markdown",
   "metadata": {},
   "source": [
    "Most commonly, we use `groupby()` to split the data into groups,this will apply some function to each of the groups (e.g. mean, median, min, max, count), then combine the results into a data structure. For example, let's select the 'VALUE' column and calculate the mean of the gasoline prices per year. First, we specify the 'Year\" column, following by the 'VALUE' column, and the `mean()` function.\n"
   ]
  },
  {
   "cell_type": "code",
   "execution_count": null,
   "metadata": {},
   "outputs": [],
   "source": [
    "group_year = data.groupby(['Year'])['VALUE'].mean()\n",
    "group_year"
   ]
  },
  {
   "cell_type": "markdown",
   "metadata": {},
   "source": [
    "## Exercise 3 a\n"
   ]
  },
  {
   "cell_type": "markdown",
   "metadata": {},
   "source": [
    "In the cell below, please use `groupby()` method to group by the maximum value of gasoline prices, for each month. \n"
   ]
  },
  {
   "cell_type": "code",
   "execution_count": 83,
   "metadata": {},
   "outputs": [],
   "source": [
    "# Enter your code below and run the cell\n",
    "exercise3a = data.groupby(['Month'])['VALUE'].max()"
   ]
  },
  {
   "cell_type": "code",
   "execution_count": 84,
   "metadata": {},
   "outputs": [
    {
     "data": {
      "text/plain": [
       "Month\n",
       "Apr    187.8\n",
       "Aug    188.3\n",
       "Dec    158.5\n",
       "Feb    168.0\n",
       "Jan    162.0\n",
       "Jul    191.6\n",
       "Jun    183.2\n",
       "Mar    171.8\n",
       "May    189.3\n",
       "Nov    162.2\n",
       "Oct    184.9\n",
       "Sep    179.3\n",
       "Name: VALUE, dtype: float64"
      ]
     },
     "execution_count": 84,
     "metadata": {},
     "output_type": "execute_result"
    }
   ],
   "source": [
    "exercise3a"
   ]
  },
  {
   "cell_type": "markdown",
   "metadata": {},
   "source": [
    "<details>\n",
    "<summary><strong>Solution</strong> (Click Here)</summary>\n",
    "    &emsp; &emsp; <code>\n",
    "exercise3a = data.groupby(['Month'])['VALUE'].max()\n",
    "</code>\n",
    "</details>\n"
   ]
  },
  {
   "cell_type": "markdown",
   "metadata": {},
   "source": [
    "## Exercise 3 b\n"
   ]
  },
  {
   "cell_type": "markdown",
   "metadata": {},
   "source": [
    "In the cell below, please use `groupby()` method to group by the median value of gasoline prices, for each year and each city. \n"
   ]
  },
  {
   "cell_type": "code",
   "execution_count": 85,
   "metadata": {},
   "outputs": [],
   "source": [
    "# Enter your code below and run the cell\n",
    "exercise3b = data.groupby(['Year', 'City'])['VALUE'].median()"
   ]
  },
  {
   "cell_type": "code",
   "execution_count": 86,
   "metadata": {},
   "outputs": [
    {
     "data": {
      "text/plain": [
       "Year  City                        \n",
       "1979  Calgary                          19.15\n",
       "      Charlottetown and Summerside     25.45\n",
       "      Edmonton                         18.70\n",
       "      Halifax                          24.00\n",
       "      Montréal                         23.25\n",
       "                                       ...  \n",
       "2021  Vancouver                       151.10\n",
       "      Victoria                        148.80\n",
       "      Whitehorse                      142.25\n",
       "      Winnipeg                        127.70\n",
       "      Yellowknife                     138.65\n",
       "Name: VALUE, Length: 751, dtype: float64"
      ]
     },
     "execution_count": 86,
     "metadata": {},
     "output_type": "execute_result"
    }
   ],
   "source": [
    "exercise3b"
   ]
  },
  {
   "cell_type": "markdown",
   "metadata": {},
   "source": [
    "<details>\n",
    "<summary><strong>Solution</strong> (Click Here)</summary>\n",
    "    &emsp; &emsp; <code>\n",
    "exercise3b = data.groupby(['Year', 'City'])['VALUE'].median()\n",
    "</code>\n",
    "</details>\n"
   ]
  },
  {
   "cell_type": "markdown",
   "metadata": {},
   "source": [
    "<details>\n",
    "<summary><strong>Hint</strong> (Click Here)</summary>\n",
    "    &emsp; &emsp; <code>\n",
    "    \n",
    "We can also reset the index of the new data output, by using `reset_index()`, and round up the output values to 2 decimal places.\n",
    "\n",
    "exercise3b = data.groupby(['Year', 'City'])['VALUE'].median().reset_index(name ='Value').round(2)\n",
    "\n",
    "</code>\n",
    "</details>\n"
   ]
  },
  {
   "cell_type": "markdown",
   "metadata": {},
   "source": [
    "## **Visualizing the data with *pandas* plotly.express** \n"
   ]
  },
  {
   "cell_type": "markdown",
   "metadata": {},
   "source": [
    "The *plotly.express* library (usually imported as px) contains functions that can create entire figures at once. *plotly.express* is a built-in part of the *plotly* library, and makes creation of most common figures very easy. For more information on *plotly.express*, please refer to [this](https://plotly.com/python/plotly-express/?utm_medium=Exinfluencer&utm_source=Exinfluencer&utm_content=000026UJ&utm_term=10006555&utm_id=NA-SkillsNetwork-Channel-SkillsNetworkCoursesIBMML0232ENSkillsNetwork837-2023-01-01) documentation.\n"
   ]
  },
  {
   "cell_type": "markdown",
   "metadata": {},
   "source": [
    "Here, we will plot the prices of gasoline in all cities during 1979 - 2021.\n"
   ]
  },
  {
   "cell_type": "code",
   "execution_count": null,
   "metadata": {},
   "outputs": [],
   "source": [
    "price_bycity = data.groupby(['Year', 'GEO'])['VALUE'].mean().reset_index(name ='Value').round(2)"
   ]
  },
  {
   "cell_type": "code",
   "execution_count": null,
   "metadata": {},
   "outputs": [],
   "source": [
    "fig = px.line(price_bycity\n",
    "                   ,x='Year', y = \"Value\", \n",
    "                   color = \"GEO\", color_discrete_sequence=px.colors.qualitative.Light24)\n",
    "fig.update_traces(mode='markers+lines')\n",
    "fig.update_layout(\n",
    "    title=\"Gasoline Price Trend per City\",\n",
    "    xaxis_title=\"Year\",\n",
    "    yaxis_title=\"Annual Average Price, Cents per Litre\")\n",
    "fig.show()"
   ]
  },
  {
   "cell_type": "markdown",
   "metadata": {},
   "source": [
    "Here, we will plot the average monthly prices of gasoline in Toronto for the year of 2021.\n"
   ]
  },
  {
   "cell_type": "code",
   "execution_count": null,
   "metadata": {},
   "outputs": [],
   "source": [
    "mon_trend = data[(data['Year'] ==  2021) & (data['GEO'] == \"Toronto, Ontario\")]\n",
    "group_month = mon_trend.groupby(['Month'])['VALUE'].mean().reset_index().sort_values(by=\"VALUE\")"
   ]
  },
  {
   "cell_type": "code",
   "execution_count": null,
   "metadata": {},
   "outputs": [],
   "source": [
    "fig = px.line(group_month,\n",
    "                   x='Month', y = \"VALUE\")\n",
    "fig.update_traces(mode='markers+lines')\n",
    "fig.update_layout(\n",
    "    title=\"Toronto Average Monthly Gasoline Price in 2021\",\n",
    "    xaxis_title=\"Month\",\n",
    "    yaxis_title=\"Monthly Price, Cents per Litre\")\n",
    "fig.show()"
   ]
  },
  {
   "cell_type": "markdown",
   "metadata": {},
   "source": [
    "## Exercise 4\n"
   ]
  },
  {
   "cell_type": "markdown",
   "metadata": {},
   "source": [
    "In the cell below, use *plotly.express* or other libraries, to plot the annual average gasoline price, per year, per gasoline type.\n"
   ]
  },
  {
   "cell_type": "code",
   "execution_count": null,
   "metadata": {},
   "outputs": [],
   "source": [
    "# Enter your code below and run the cell"
   ]
  },
  {
   "cell_type": "markdown",
   "metadata": {},
   "source": [
    "<details>\n",
    "<summary><strong>Solution</strong> (Click Here)</summary>\n",
    "    &emsp; &emsp; <code>\n",
    "type_gas = data.groupby(['Year', 'TYPE'])['VALUE'].mean().reset_index(name ='Type').round(2)\n",
    "fig = px.line(type_gas,\n",
    "                   x='Year', y = \"Type\", \n",
    "                   color = \"TYPE\", color_discrete_sequence=px.colors.qualitative.Light24)\n",
    "fig.update_traces(mode='markers+lines')\n",
    "fig.update_layout(\n",
    "    title=\"Fuel Type Price Trend\",\n",
    "    xaxis_title=\"Year\",\n",
    "    yaxis_title=\"Annual Average Price, Cents per Litre\")\n",
    "fig.show()\n",
    "\n",
    "</code>\n",
    "</details>\n"
   ]
  },
  {
   "cell_type": "markdown",
   "metadata": {},
   "source": [
    "We can also use the animated time frame to show the trend of gasoline prices over time.\n"
   ]
  },
  {
   "cell_type": "code",
   "execution_count": null,
   "metadata": {},
   "outputs": [],
   "source": [
    "bycity = data.groupby(['Year', 'City'])['VALUE'].mean().reset_index(name ='Value').round(2)\n",
    "bycity.head()"
   ]
  },
  {
   "cell_type": "code",
   "execution_count": null,
   "metadata": {},
   "outputs": [],
   "source": [
    "fig = px.bar(bycity,  \n",
    "            x='City', y = \"Value\", animation_frame=\"Year\")\n",
    "fig.update_layout(\n",
    "    title=\"Time Lapse of Average Price of Gasoline, by Province\",\n",
    "    xaxis_title=\"Year\",\n",
    "    yaxis_title=\"Average Price of Gasoline, Cents per Litre\")\n",
    "\n",
    "fig.show()\n",
    " "
   ]
  },
  {
   "cell_type": "markdown",
   "metadata": {},
   "source": [
    "Another way to display the distribution of average gasoline prices in Canadian Provinces is by plotting a map. We will use 2021 year to display the average gasoline price in all Canadian Provinces.\n",
    "First, we select the year.\n"
   ]
  },
  {
   "cell_type": "code",
   "execution_count": null,
   "metadata": {},
   "outputs": [],
   "source": [
    "one_year = data[data['Year'] == 2021]\n",
    "one_year.head()"
   ]
  },
  {
   "cell_type": "markdown",
   "metadata": {},
   "source": [
    "Then, we group by the 'Province' and the 'mean' values of gasoline prices per each province. We also need to index each province with province id. \n"
   ]
  },
  {
   "cell_type": "code",
   "execution_count": null,
   "metadata": {},
   "outputs": [],
   "source": [
    "geodata =  one_year.groupby('Province')['VALUE'].mean().reset_index(name ='Average Gasoline Price').round(2)\n",
    "\n",
    "provinces={' Newfoundland and Labrador':5,\n",
    " ' Prince Edward Island':8,\n",
    " ' Nova Scotia':2,\n",
    " ' New Brunswick':7,\n",
    " ' Quebec':1,\n",
    " ' Ontario':11,\n",
    " ' Ontario part, Ontario/Quebec':12,\n",
    " ' Manitoba':10,\n",
    " ' Saskatchewan':3,\n",
    " ' Alberta':4,\n",
    " ' British Columbia':6,\n",
    " ' Yukon':9,\n",
    " ' Northwest Territories':13\n",
    "}\n",
    "geodata['ProvinceID']=geodata['Province'].map(provinces)\n",
    "display(geodata)\n",
    "\n"
   ]
  },
  {
   "cell_type": "markdown",
   "metadata": {},
   "source": [
    "Here, we are linking each province by its specified 'provinceID' with another dataset, ‘canada_provinces.geojson’, containing all the mapping information for plotting our provinces.\n",
    "\n",
    "First, we need to download the Canadian Provinces dataset from IBM cloud storage, using the `requests.get()` function.\n"
   ]
  },
  {
   "cell_type": "code",
   "execution_count": null,
   "metadata": {},
   "outputs": [],
   "source": [
    "geo = requests.get(\"https://cf-courses-data.s3.us.cloud-object-storage.appdomain.cloud/IBM-ML0232EN-SkillsNetwork/asset/canada_provinces.geojson\")"
   ]
  },
  {
   "cell_type": "markdown",
   "metadata": {},
   "source": [
    "Next, we will load the file as a string, using `json.loads()` function.\n"
   ]
  },
  {
   "cell_type": "code",
   "execution_count": null,
   "metadata": {},
   "outputs": [],
   "source": [
    "mp = json.loads(geo.text)\n",
    "    \n",
    "fig = px.choropleth(geodata,\n",
    "                    locations=\"ProvinceID\",\n",
    "                    geojson=mp,\n",
    "                    featureidkey=\"properties.cartodb_id\",\n",
    "                    color=\"Average Gasoline Price\",\n",
    "                    color_continuous_scale=px.colors.diverging.Tropic,\n",
    "                    scope='north america',\n",
    "                    title='<b>Average Gasoline Price </b>',                \n",
    "                    hover_name='Province',\n",
    "                    hover_data={\n",
    "                        'Average Gasoline Price' : True,\n",
    "                        'ProvinceID' : False\n",
    "                    },\n",
    "                     \n",
    "                    locationmode='geojson-id',\n",
    "                    )\n",
    "fig.update_layout(\n",
    "    showlegend=True,\n",
    "    legend_title_text='<b>Average Gasoline Price</b>',\n",
    "    font={\"size\": 16, \"color\": \"#808080\", \"family\" : \"calibri\"},\n",
    "    margin={\"r\":0,\"t\":40,\"l\":0,\"b\":0},\n",
    "    legend=dict(orientation='v'),\n",
    "    geo=dict(bgcolor='rgba(0,0,0,0)', lakecolor='#e0fffe')\n",
    ")\n",
    "\n",
    "#Show Canada only \n",
    "fig.update_geos(showcountries=False, showcoastlines=False,\n",
    "                showland=False, fitbounds=\"locations\",\n",
    "                subunitcolor='white')\n",
    "fig.show()"
   ]
  },
  {
   "cell_type": "markdown",
   "metadata": {},
   "source": [
    "## Exercise 5\n"
   ]
  },
  {
   "cell_type": "markdown",
   "metadata": {},
   "source": [
    "In this exercise, experiment with different color scales to make the visualization easier to read. Some suggestions are provided in the \"Hint\" section. Simply copy the above code and replace 'px.colors.diverging.Tropic', with any other color scales. For example, the sequential color scales are appropriate for most continuous data, but in some cases it can be helpful to use a diverging or cyclical color scale. Diverging color scales are appropriate for the continuous data that has a natural midpoint. For more information on *plotly* colors, please visit [this plotly documentation](https://plotly.com/python/builtin-colorscales/?utm_medium=Exinfluencer&utm_source=Exinfluencer&utm_content=000026UJ&utm_term=10006555&utm_id=NA-SkillsNetwork-Channel-SkillsNetworkCoursesIBMML0232ENSkillsNetwork837-2023-01-01) web page.\n"
   ]
  },
  {
   "cell_type": "code",
   "execution_count": null,
   "metadata": {},
   "outputs": [],
   "source": [
    "# Enter your code and run the cell"
   ]
  },
  {
   "cell_type": "markdown",
   "metadata": {},
   "source": [
    "<details>\n",
    "<summary><strong>Hint</strong> (Click Here)</summary>\n",
    "    &emsp; &emsp; <code>\n",
    "    px.colors.diverging.Tropic\n",
    "    px.colors.diverging.Temps\n",
    "    px.colors.sequential.Greens\n",
    "    px.colors.sequential.Reds\n",
    "\n",
    "</code>\n",
    "</details>\n"
   ]
  },
  {
   "cell_type": "markdown",
   "metadata": {},
   "source": [
    "# Congratulations! - You have completed the lab\n"
   ]
  },
  {
   "cell_type": "markdown",
   "metadata": {},
   "source": [
    "## Author\n"
   ]
  },
  {
   "cell_type": "markdown",
   "metadata": {},
   "source": [
    "[Svitlana Kramar](https://www.linkedin.com/in/svitlana-kramar/?utm_medium=Exinfluencer&utm_source=Exinfluencer&utm_content=000026UJ&utm_term=10006555&utm_id=NA-SkillsNetwork-Channel-SkillsNetworkCoursesIBMML0232ENSkillsNetwork837-2023-01-01)\n"
   ]
  },
  {
   "cell_type": "markdown",
   "metadata": {},
   "source": [
    "## Change Log\n"
   ]
  },
  {
   "cell_type": "markdown",
   "metadata": {},
   "source": [
    "| Date (YYYY-MM-DD) | Version | Changed By | Change Description      |\n",
    "| ----------------- | ------- | ---------- | ----------------------- |\n",
    "| 2022-01-18        | 0.1     |Svitlana K. | Added Introduction      |\n",
    "| 2023-07-29        | 0.2     |Ronald A.   | Completed Exercises     |\n"
   ]
  },
  {
   "cell_type": "markdown",
   "metadata": {},
   "source": [
    "Copyright © 2020 IBM Corporation. All rights reserved.\n"
   ]
  }
 ],
 "metadata": {
  "kernelspec": {
   "display_name": "Python 3 (ipykernel)",
   "language": "python",
   "name": "python3"
  },
  "language_info": {
   "codemirror_mode": {
    "name": "ipython",
    "version": 3
   },
   "file_extension": ".py",
   "mimetype": "text/x-python",
   "name": "python",
   "nbconvert_exporter": "python",
   "pygments_lexer": "ipython3",
   "version": "3.10.9"
  }
 },
 "nbformat": 4,
 "nbformat_minor": 4
}
