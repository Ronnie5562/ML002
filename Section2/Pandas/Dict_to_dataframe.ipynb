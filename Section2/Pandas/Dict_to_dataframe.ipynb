{
 "cells": [
  {
   "cell_type": "code",
   "execution_count": 12,
   "id": "9d84ff80",
   "metadata": {},
   "outputs": [
    {
     "data": {
      "text/plain": [
       "'\\n    In this module, I learnt how to create a pandas dataframe from a python dictionary 📙\\n'"
      ]
     },
     "execution_count": 12,
     "metadata": {},
     "output_type": "execute_result"
    }
   ],
   "source": [
    "\"\"\"\n",
    "    In this module, I learnt how to create a pandas dataframe from a python dictionary 📙\n",
    "\"\"\""
   ]
  },
  {
   "cell_type": "code",
   "execution_count": 13,
   "id": "6324fbcf",
   "metadata": {},
   "outputs": [],
   "source": [
    "import pandas as pd"
   ]
  },
  {
   "cell_type": "code",
   "execution_count": 14,
   "id": "dd6235a5",
   "metadata": {},
   "outputs": [],
   "source": [
    "students = {\n",
    "    'StudentID': ['1001', '1002', '1003', '1004', '1005', '1006', '1007', '1008', '1009', '1010'],\n",
    "    'Name': ['Alice', 'Bob', 'Charlie', 'David', 'Emily', 'Frank', 'Grace', 'Henry', 'Isabel', 'John'],\n",
    "    'Gender': ['Female', 'Male', 'Male', 'Male', 'Female', 'Male', 'Female', 'Male', 'Female', 'Male'],\n",
    "    'Age': [18, 17, 18, 17, 16, 18, 16, 17, 18, 16],\n",
    "    'Math': [95, 85, 92, 78, 88, 90, 85, 90, 92, 85],\n",
    "    'Computer Science': [87, 78, 80, 85, 75, 82, 90, 88, 80, 75],\n",
    "    'Sciences': [90, 85, 95, 80, 82, 92, 88, 85, 90, 95],\n",
    "    'English': [95, 88, 92, 85, 90, 82, 88, 85, 80, 92],\n",
    "    'GPA': [3.89, 2.99, 3.89, 3.09, 3.31, 3.51, 3.38, 3.28, 3.02, 3.73]\n",
    "}"
   ]
  },
  {
   "cell_type": "code",
   "execution_count": 15,
   "id": "0227ec98",
   "metadata": {},
   "outputs": [],
   "source": [
    "Students_df = pd.DataFrame(students)"
   ]
  },
  {
   "cell_type": "code",
   "execution_count": 16,
   "id": "566cd0ef",
   "metadata": {},
   "outputs": [
    {
     "data": {
      "text/html": [
       "<div>\n",
       "<style scoped>\n",
       "    .dataframe tbody tr th:only-of-type {\n",
       "        vertical-align: middle;\n",
       "    }\n",
       "\n",
       "    .dataframe tbody tr th {\n",
       "        vertical-align: top;\n",
       "    }\n",
       "\n",
       "    .dataframe thead th {\n",
       "        text-align: right;\n",
       "    }\n",
       "</style>\n",
       "<table border=\"1\" class=\"dataframe\">\n",
       "  <thead>\n",
       "    <tr style=\"text-align: right;\">\n",
       "      <th></th>\n",
       "      <th>StudentID</th>\n",
       "      <th>Name</th>\n",
       "      <th>Gender</th>\n",
       "      <th>Age</th>\n",
       "      <th>Math</th>\n",
       "      <th>Computer Science</th>\n",
       "      <th>Sciences</th>\n",
       "      <th>English</th>\n",
       "      <th>GPA</th>\n",
       "    </tr>\n",
       "  </thead>\n",
       "  <tbody>\n",
       "    <tr>\n",
       "      <th>0</th>\n",
       "      <td>1001</td>\n",
       "      <td>Alice</td>\n",
       "      <td>Female</td>\n",
       "      <td>18</td>\n",
       "      <td>95</td>\n",
       "      <td>87</td>\n",
       "      <td>90</td>\n",
       "      <td>95</td>\n",
       "      <td>3.89</td>\n",
       "    </tr>\n",
       "    <tr>\n",
       "      <th>1</th>\n",
       "      <td>1002</td>\n",
       "      <td>Bob</td>\n",
       "      <td>Male</td>\n",
       "      <td>17</td>\n",
       "      <td>85</td>\n",
       "      <td>78</td>\n",
       "      <td>85</td>\n",
       "      <td>88</td>\n",
       "      <td>2.99</td>\n",
       "    </tr>\n",
       "    <tr>\n",
       "      <th>2</th>\n",
       "      <td>1003</td>\n",
       "      <td>Charlie</td>\n",
       "      <td>Male</td>\n",
       "      <td>18</td>\n",
       "      <td>92</td>\n",
       "      <td>80</td>\n",
       "      <td>95</td>\n",
       "      <td>92</td>\n",
       "      <td>3.89</td>\n",
       "    </tr>\n",
       "    <tr>\n",
       "      <th>3</th>\n",
       "      <td>1004</td>\n",
       "      <td>David</td>\n",
       "      <td>Male</td>\n",
       "      <td>17</td>\n",
       "      <td>78</td>\n",
       "      <td>85</td>\n",
       "      <td>80</td>\n",
       "      <td>85</td>\n",
       "      <td>3.09</td>\n",
       "    </tr>\n",
       "    <tr>\n",
       "      <th>4</th>\n",
       "      <td>1005</td>\n",
       "      <td>Emily</td>\n",
       "      <td>Female</td>\n",
       "      <td>16</td>\n",
       "      <td>88</td>\n",
       "      <td>75</td>\n",
       "      <td>82</td>\n",
       "      <td>90</td>\n",
       "      <td>3.31</td>\n",
       "    </tr>\n",
       "    <tr>\n",
       "      <th>5</th>\n",
       "      <td>1006</td>\n",
       "      <td>Frank</td>\n",
       "      <td>Male</td>\n",
       "      <td>18</td>\n",
       "      <td>90</td>\n",
       "      <td>82</td>\n",
       "      <td>92</td>\n",
       "      <td>82</td>\n",
       "      <td>3.51</td>\n",
       "    </tr>\n",
       "    <tr>\n",
       "      <th>6</th>\n",
       "      <td>1007</td>\n",
       "      <td>Grace</td>\n",
       "      <td>Female</td>\n",
       "      <td>16</td>\n",
       "      <td>85</td>\n",
       "      <td>90</td>\n",
       "      <td>88</td>\n",
       "      <td>88</td>\n",
       "      <td>3.38</td>\n",
       "    </tr>\n",
       "    <tr>\n",
       "      <th>7</th>\n",
       "      <td>1008</td>\n",
       "      <td>Henry</td>\n",
       "      <td>Male</td>\n",
       "      <td>17</td>\n",
       "      <td>90</td>\n",
       "      <td>88</td>\n",
       "      <td>85</td>\n",
       "      <td>85</td>\n",
       "      <td>3.28</td>\n",
       "    </tr>\n",
       "    <tr>\n",
       "      <th>8</th>\n",
       "      <td>1009</td>\n",
       "      <td>Isabel</td>\n",
       "      <td>Female</td>\n",
       "      <td>18</td>\n",
       "      <td>92</td>\n",
       "      <td>80</td>\n",
       "      <td>90</td>\n",
       "      <td>80</td>\n",
       "      <td>3.02</td>\n",
       "    </tr>\n",
       "    <tr>\n",
       "      <th>9</th>\n",
       "      <td>1010</td>\n",
       "      <td>John</td>\n",
       "      <td>Male</td>\n",
       "      <td>16</td>\n",
       "      <td>85</td>\n",
       "      <td>75</td>\n",
       "      <td>95</td>\n",
       "      <td>92</td>\n",
       "      <td>3.73</td>\n",
       "    </tr>\n",
       "  </tbody>\n",
       "</table>\n",
       "</div>"
      ],
      "text/plain": [
       "  StudentID     Name  Gender  Age  Math  Computer Science  Sciences  English   \n",
       "0      1001    Alice  Female   18    95                87        90       95  \\\n",
       "1      1002      Bob    Male   17    85                78        85       88   \n",
       "2      1003  Charlie    Male   18    92                80        95       92   \n",
       "3      1004    David    Male   17    78                85        80       85   \n",
       "4      1005    Emily  Female   16    88                75        82       90   \n",
       "5      1006    Frank    Male   18    90                82        92       82   \n",
       "6      1007    Grace  Female   16    85                90        88       88   \n",
       "7      1008    Henry    Male   17    90                88        85       85   \n",
       "8      1009   Isabel  Female   18    92                80        90       80   \n",
       "9      1010     John    Male   16    85                75        95       92   \n",
       "\n",
       "    GPA  \n",
       "0  3.89  \n",
       "1  2.99  \n",
       "2  3.89  \n",
       "3  3.09  \n",
       "4  3.31  \n",
       "5  3.51  \n",
       "6  3.38  \n",
       "7  3.28  \n",
       "8  3.02  \n",
       "9  3.73  "
      ]
     },
     "execution_count": 16,
     "metadata": {},
     "output_type": "execute_result"
    }
   ],
   "source": [
    "Students_df"
   ]
  },
  {
   "cell_type": "code",
   "execution_count": 17,
   "id": "49e42da3",
   "metadata": {},
   "outputs": [
    {
     "data": {
      "text/plain": [
       "pandas.core.frame.DataFrame"
      ]
     },
     "execution_count": 17,
     "metadata": {},
     "output_type": "execute_result"
    }
   ],
   "source": [
    "type(Students_df)"
   ]
  },
  {
   "cell_type": "code",
   "execution_count": 18,
   "id": "d5d52be7",
   "metadata": {},
   "outputs": [
    {
     "data": {
      "text/plain": [
       "10"
      ]
     },
     "execution_count": 18,
     "metadata": {},
     "output_type": "execute_result"
    }
   ],
   "source": [
    "list(Students_df.shape)[0]"
   ]
  },
  {
   "cell_type": "code",
   "execution_count": 19,
   "id": "bb2bd288",
   "metadata": {},
   "outputs": [
    {
     "data": {
      "text/plain": [
       "StudentID           10\n",
       "Name                10\n",
       "Gender              10\n",
       "Age                 10\n",
       "Math                10\n",
       "Computer Science    10\n",
       "Sciences            10\n",
       "English             10\n",
       "GPA                 10\n",
       "dtype: int64"
      ]
     },
     "execution_count": 19,
     "metadata": {},
     "output_type": "execute_result"
    }
   ],
   "source": [
    "Students_df.count()\n"
   ]
  },
  {
   "cell_type": "code",
   "execution_count": 20,
   "id": "287798d1",
   "metadata": {},
   "outputs": [
    {
     "data": {
      "text/html": [
       "<div>\n",
       "<style scoped>\n",
       "    .dataframe tbody tr th:only-of-type {\n",
       "        vertical-align: middle;\n",
       "    }\n",
       "\n",
       "    .dataframe tbody tr th {\n",
       "        vertical-align: top;\n",
       "    }\n",
       "\n",
       "    .dataframe thead th {\n",
       "        text-align: right;\n",
       "    }\n",
       "</style>\n",
       "<table border=\"1\" class=\"dataframe\">\n",
       "  <thead>\n",
       "    <tr style=\"text-align: right;\">\n",
       "      <th></th>\n",
       "      <th>Name</th>\n",
       "      <th>GPA</th>\n",
       "    </tr>\n",
       "  </thead>\n",
       "  <tbody>\n",
       "    <tr>\n",
       "      <th>0</th>\n",
       "      <td>Alice</td>\n",
       "      <td>3.89</td>\n",
       "    </tr>\n",
       "    <tr>\n",
       "      <th>1</th>\n",
       "      <td>Bob</td>\n",
       "      <td>2.99</td>\n",
       "    </tr>\n",
       "    <tr>\n",
       "      <th>2</th>\n",
       "      <td>Charlie</td>\n",
       "      <td>3.89</td>\n",
       "    </tr>\n",
       "    <tr>\n",
       "      <th>3</th>\n",
       "      <td>David</td>\n",
       "      <td>3.09</td>\n",
       "    </tr>\n",
       "    <tr>\n",
       "      <th>4</th>\n",
       "      <td>Emily</td>\n",
       "      <td>3.31</td>\n",
       "    </tr>\n",
       "    <tr>\n",
       "      <th>5</th>\n",
       "      <td>Frank</td>\n",
       "      <td>3.51</td>\n",
       "    </tr>\n",
       "    <tr>\n",
       "      <th>6</th>\n",
       "      <td>Grace</td>\n",
       "      <td>3.38</td>\n",
       "    </tr>\n",
       "    <tr>\n",
       "      <th>7</th>\n",
       "      <td>Henry</td>\n",
       "      <td>3.28</td>\n",
       "    </tr>\n",
       "    <tr>\n",
       "      <th>8</th>\n",
       "      <td>Isabel</td>\n",
       "      <td>3.02</td>\n",
       "    </tr>\n",
       "    <tr>\n",
       "      <th>9</th>\n",
       "      <td>John</td>\n",
       "      <td>3.73</td>\n",
       "    </tr>\n",
       "  </tbody>\n",
       "</table>\n",
       "</div>"
      ],
      "text/plain": [
       "      Name   GPA\n",
       "0    Alice  3.89\n",
       "1      Bob  2.99\n",
       "2  Charlie  3.89\n",
       "3    David  3.09\n",
       "4    Emily  3.31\n",
       "5    Frank  3.51\n",
       "6    Grace  3.38\n",
       "7    Henry  3.28\n",
       "8   Isabel  3.02\n",
       "9     John  3.73"
      ]
     },
     "execution_count": 20,
     "metadata": {},
     "output_type": "execute_result"
    }
   ],
   "source": [
    "Students_df[['Name', 'GPA']]"
   ]
  },
  {
   "cell_type": "code",
   "execution_count": 21,
   "id": "8bc68b58",
   "metadata": {},
   "outputs": [
    {
     "data": {
      "text/plain": [
       "Index(['StudentID', 'Name', 'Gender', 'Age', 'Math', 'Computer Science',\n",
       "       'Sciences', 'English', 'GPA'],\n",
       "      dtype='object')"
      ]
     },
     "execution_count": 21,
     "metadata": {},
     "output_type": "execute_result"
    }
   ],
   "source": [
    "Students_df.columns"
   ]
  },
  {
   "cell_type": "markdown",
   "id": "5cdf7358",
   "metadata": {},
   "source": [
    "# Pandas `loc` vs. `iloc`\n",
    "In pandas, loc and iloc are two methods used for selecting data from a DataFrame. The key difference between them is in how they reference the data.\n",
    "\n",
    "# `loc`\n",
    "loc is used for label-based indexing, where you specify the row and column labels to select the data. You can use either single labels or lists of labels to select one or more rows or columns. For example:"
   ]
  },
  {
   "cell_type": "code",
   "execution_count": 22,
   "id": "e001b993",
   "metadata": {},
   "outputs": [
    {
     "name": "stdout",
     "output_type": "stream",
     "text": [
      "David\n"
     ]
    },
    {
     "data": {
      "text/html": [
       "<div>\n",
       "<style scoped>\n",
       "    .dataframe tbody tr th:only-of-type {\n",
       "        vertical-align: middle;\n",
       "    }\n",
       "\n",
       "    .dataframe tbody tr th {\n",
       "        vertical-align: top;\n",
       "    }\n",
       "\n",
       "    .dataframe thead th {\n",
       "        text-align: right;\n",
       "    }\n",
       "</style>\n",
       "<table border=\"1\" class=\"dataframe\">\n",
       "  <thead>\n",
       "    <tr style=\"text-align: right;\">\n",
       "      <th></th>\n",
       "      <th>Name</th>\n",
       "      <th>GPA</th>\n",
       "    </tr>\n",
       "  </thead>\n",
       "  <tbody>\n",
       "    <tr>\n",
       "      <th>1</th>\n",
       "      <td>Bob</td>\n",
       "      <td>2.99</td>\n",
       "    </tr>\n",
       "    <tr>\n",
       "      <th>2</th>\n",
       "      <td>Charlie</td>\n",
       "      <td>3.89</td>\n",
       "    </tr>\n",
       "    <tr>\n",
       "      <th>3</th>\n",
       "      <td>David</td>\n",
       "      <td>3.09</td>\n",
       "    </tr>\n",
       "  </tbody>\n",
       "</table>\n",
       "</div>"
      ],
      "text/plain": [
       "      Name   GPA\n",
       "1      Bob  2.99\n",
       "2  Charlie  3.89\n",
       "3    David  3.09"
      ]
     },
     "execution_count": 22,
     "metadata": {},
     "output_type": "execute_result"
    }
   ],
   "source": [
    "print(Students_df.loc[3, 'Name'])  # selects the value at row 3 and column 'column_name'\n",
    "Students_df.loc[[1, 2, 3], ['Name', 'GPA']]  # selects rows 1, 2, and 3 for columns 'col1' and 'col2'"
   ]
  },
  {
   "cell_type": "markdown",
   "id": "a50ceb0d",
   "metadata": {},
   "source": [
    "# iloc\n",
    "`iloc`, on the other hand, is used for integer-based indexing, where you specify the row and column numbers to select the data. You can also use either single integers or lists of integers to select one or more rows or columns. For example:"
   ]
  },
  {
   "cell_type": "code",
   "execution_count": 23,
   "id": "7e2a9080",
   "metadata": {},
   "outputs": [
    {
     "name": "stdout",
     "output_type": "stream",
     "text": [
      "David\n"
     ]
    },
    {
     "data": {
      "text/html": [
       "<div>\n",
       "<style scoped>\n",
       "    .dataframe tbody tr th:only-of-type {\n",
       "        vertical-align: middle;\n",
       "    }\n",
       "\n",
       "    .dataframe tbody tr th {\n",
       "        vertical-align: top;\n",
       "    }\n",
       "\n",
       "    .dataframe thead th {\n",
       "        text-align: right;\n",
       "    }\n",
       "</style>\n",
       "<table border=\"1\" class=\"dataframe\">\n",
       "  <thead>\n",
       "    <tr style=\"text-align: right;\">\n",
       "      <th></th>\n",
       "      <th>StudentID</th>\n",
       "      <th>Name</th>\n",
       "    </tr>\n",
       "  </thead>\n",
       "  <tbody>\n",
       "    <tr>\n",
       "      <th>1</th>\n",
       "      <td>1002</td>\n",
       "      <td>Bob</td>\n",
       "    </tr>\n",
       "    <tr>\n",
       "      <th>2</th>\n",
       "      <td>1003</td>\n",
       "      <td>Charlie</td>\n",
       "    </tr>\n",
       "    <tr>\n",
       "      <th>3</th>\n",
       "      <td>1004</td>\n",
       "      <td>David</td>\n",
       "    </tr>\n",
       "  </tbody>\n",
       "</table>\n",
       "</div>"
      ],
      "text/plain": [
       "  StudentID     Name\n",
       "1      1002      Bob\n",
       "2      1003  Charlie\n",
       "3      1004    David"
      ]
     },
     "execution_count": 23,
     "metadata": {},
     "output_type": "execute_result"
    }
   ],
   "source": [
    "print(Students_df.iloc[3, 1])  # selects the value at row 3 and column 1\n",
    "Students_df.iloc[[1, 2, 3], [0, 1]]  # selects rows 1, 2, and 3 for columns 0 and 1"
   ]
  },
  {
   "cell_type": "markdown",
   "id": "86557715",
   "metadata": {},
   "source": [
    "In summary, `loc` is used for label-based indexing, while `iloc` is used for integer-based indexing. Which one to use depends on how the data is labeled or numbered. If the data has a labeled index, you should use `loc`, while if it has a numbered index, you should use `iloc`.\n",
    "So, basically the format both `loc` and `iloc` is `[row(s), column(s)]`"
   ]
  }
 ],
 "metadata": {
  "kernelspec": {
   "display_name": "Python 3 (ipykernel)",
   "language": "python",
   "name": "python3"
  },
  "language_info": {
   "codemirror_mode": {
    "name": "ipython",
    "version": 3
   },
   "file_extension": ".py",
   "mimetype": "text/x-python",
   "name": "python",
   "nbconvert_exporter": "python",
   "pygments_lexer": "ipython3",
   "version": "3.11.2"
  }
 },
 "nbformat": 4,
 "nbformat_minor": 5
}
